{
 "cells": [
  {
   "cell_type": "markdown",
   "metadata": {},
   "source": [
    "# Yelp Data Challenge - Clustering and PCA\n"
   ]
  },
  {
   "cell_type": "code",
   "execution_count": 1,
   "metadata": {},
   "outputs": [],
   "source": [
    "import pandas as pd\n",
    "import numpy as np\n",
    "import matplotlib.pyplot as plt\n",
    "% matplotlib inline\n",
    "plt.style.use(\"ggplot\")"
   ]
  },
  {
   "cell_type": "code",
   "execution_count": 3,
   "metadata": {},
   "outputs": [],
   "source": [
    "df = pd.read_csv('../dataset/2017_restaurant_reviews.csv')"
   ]
  },
  {
   "cell_type": "code",
   "execution_count": 5,
   "metadata": {},
   "outputs": [
    {
     "data": {
      "text/html": [
       "<div>\n",
       "<style scoped>\n",
       "    .dataframe tbody tr th:only-of-type {\n",
       "        vertical-align: middle;\n",
       "    }\n",
       "\n",
       "    .dataframe tbody tr th {\n",
       "        vertical-align: top;\n",
       "    }\n",
       "\n",
       "    .dataframe thead th {\n",
       "        text-align: right;\n",
       "    }\n",
       "</style>\n",
       "<table border=\"1\" class=\"dataframe\">\n",
       "  <thead>\n",
       "    <tr style=\"text-align: right;\">\n",
       "      <th></th>\n",
       "      <th>business_id</th>\n",
       "      <th>name</th>\n",
       "      <th>categories</th>\n",
       "      <th>avg_stars</th>\n",
       "      <th>cool</th>\n",
       "      <th>date</th>\n",
       "      <th>funny</th>\n",
       "      <th>review_id</th>\n",
       "      <th>stars</th>\n",
       "      <th>text</th>\n",
       "      <th>useful</th>\n",
       "      <th>user_id</th>\n",
       "    </tr>\n",
       "  </thead>\n",
       "  <tbody>\n",
       "    <tr>\n",
       "      <th>0</th>\n",
       "      <td>--9e1ONYQuAa-CB_Rrw7Tw</td>\n",
       "      <td>Delmonico Steakhouse</td>\n",
       "      <td>Steakhouses, Restaurants, Cajun/Creole</td>\n",
       "      <td>4.0</td>\n",
       "      <td>0</td>\n",
       "      <td>2017-02-14</td>\n",
       "      <td>0</td>\n",
       "      <td>VETXTwMw6qxzOVDlXfe6Tg</td>\n",
       "      <td>5</td>\n",
       "      <td>went for dinner tonight. Amazing my husband ha...</td>\n",
       "      <td>0</td>\n",
       "      <td>ymlnR8UeFvB4FZL56tCZsA</td>\n",
       "    </tr>\n",
       "    <tr>\n",
       "      <th>1</th>\n",
       "      <td>--9e1ONYQuAa-CB_Rrw7Tw</td>\n",
       "      <td>Delmonico Steakhouse</td>\n",
       "      <td>Steakhouses, Restaurants, Cajun/Creole</td>\n",
       "      <td>4.0</td>\n",
       "      <td>0</td>\n",
       "      <td>2017-12-04</td>\n",
       "      <td>0</td>\n",
       "      <td>S8-8uZ7fa5YbjnEtaW15ng</td>\n",
       "      <td>5</td>\n",
       "      <td>This was an amazing dinning experience! ORDER ...</td>\n",
       "      <td>0</td>\n",
       "      <td>9pSSL6X6lFpY3FCRLEH3og</td>\n",
       "    </tr>\n",
       "    <tr>\n",
       "      <th>2</th>\n",
       "      <td>--9e1ONYQuAa-CB_Rrw7Tw</td>\n",
       "      <td>Delmonico Steakhouse</td>\n",
       "      <td>Steakhouses, Restaurants, Cajun/Creole</td>\n",
       "      <td>4.0</td>\n",
       "      <td>0</td>\n",
       "      <td>2017-05-20</td>\n",
       "      <td>0</td>\n",
       "      <td>Pnkrj90xfykhHyo4BSFRsw</td>\n",
       "      <td>5</td>\n",
       "      <td>ABSOLUTE MUST IN VEGAS! Loved everything my bo...</td>\n",
       "      <td>0</td>\n",
       "      <td>cZVQGCZ_fHtTdfiyGVJPdg</td>\n",
       "    </tr>\n",
       "    <tr>\n",
       "      <th>3</th>\n",
       "      <td>--9e1ONYQuAa-CB_Rrw7Tw</td>\n",
       "      <td>Delmonico Steakhouse</td>\n",
       "      <td>Steakhouses, Restaurants, Cajun/Creole</td>\n",
       "      <td>4.0</td>\n",
       "      <td>0</td>\n",
       "      <td>2017-12-30</td>\n",
       "      <td>0</td>\n",
       "      <td>Oeh7e6U2xaDQI9L9i4x_Gw</td>\n",
       "      <td>2</td>\n",
       "      <td>I had high hopes for Delmonico's Steakhouse in...</td>\n",
       "      <td>0</td>\n",
       "      <td>li2cBZl60vgqihDJJG7jeA</td>\n",
       "    </tr>\n",
       "    <tr>\n",
       "      <th>4</th>\n",
       "      <td>--9e1ONYQuAa-CB_Rrw7Tw</td>\n",
       "      <td>Delmonico Steakhouse</td>\n",
       "      <td>Steakhouses, Restaurants, Cajun/Creole</td>\n",
       "      <td>4.0</td>\n",
       "      <td>0</td>\n",
       "      <td>2017-02-14</td>\n",
       "      <td>0</td>\n",
       "      <td>Xp3ppynEvVu1KxDHQ3ae8w</td>\n",
       "      <td>5</td>\n",
       "      <td>Delmonico Steakhouse is a steakhouse owned by ...</td>\n",
       "      <td>0</td>\n",
       "      <td>KC8H7qTZVPIEnanw9fG43g</td>\n",
       "    </tr>\n",
       "    <tr>\n",
       "      <th>5</th>\n",
       "      <td>--9e1ONYQuAa-CB_Rrw7Tw</td>\n",
       "      <td>Delmonico Steakhouse</td>\n",
       "      <td>Steakhouses, Restaurants, Cajun/Creole</td>\n",
       "      <td>4.0</td>\n",
       "      <td>0</td>\n",
       "      <td>2017-04-02</td>\n",
       "      <td>0</td>\n",
       "      <td>kjhk2-OENBAP55Y3KfbpyA</td>\n",
       "      <td>5</td>\n",
       "      <td>In Vegas a few nights seeking a great steak di...</td>\n",
       "      <td>0</td>\n",
       "      <td>P1O81PTvXaR9kYKaP3_qwg</td>\n",
       "    </tr>\n",
       "    <tr>\n",
       "      <th>6</th>\n",
       "      <td>--9e1ONYQuAa-CB_Rrw7Tw</td>\n",
       "      <td>Delmonico Steakhouse</td>\n",
       "      <td>Steakhouses, Restaurants, Cajun/Creole</td>\n",
       "      <td>4.0</td>\n",
       "      <td>0</td>\n",
       "      <td>2018-01-04</td>\n",
       "      <td>0</td>\n",
       "      <td>zwhQh7xRqEFlMr5ZDErIgg</td>\n",
       "      <td>5</td>\n",
       "      <td>My husband and I came out to Vegas for a mini ...</td>\n",
       "      <td>1</td>\n",
       "      <td>SRVUSTaHsxw9jrWA6mrylA</td>\n",
       "    </tr>\n",
       "    <tr>\n",
       "      <th>7</th>\n",
       "      <td>--9e1ONYQuAa-CB_Rrw7Tw</td>\n",
       "      <td>Delmonico Steakhouse</td>\n",
       "      <td>Steakhouses, Restaurants, Cajun/Creole</td>\n",
       "      <td>4.0</td>\n",
       "      <td>0</td>\n",
       "      <td>2017-05-08</td>\n",
       "      <td>0</td>\n",
       "      <td>ftrTcWgixeSzIhUxdtfueg</td>\n",
       "      <td>5</td>\n",
       "      <td>Wonderful pre-show dinner!  We enjoyed the han...</td>\n",
       "      <td>0</td>\n",
       "      <td>f0apW99d7gn2ztFkF8d_Zg</td>\n",
       "    </tr>\n",
       "    <tr>\n",
       "      <th>8</th>\n",
       "      <td>--9e1ONYQuAa-CB_Rrw7Tw</td>\n",
       "      <td>Delmonico Steakhouse</td>\n",
       "      <td>Steakhouses, Restaurants, Cajun/Creole</td>\n",
       "      <td>4.0</td>\n",
       "      <td>0</td>\n",
       "      <td>2017-08-30</td>\n",
       "      <td>0</td>\n",
       "      <td>VL1e4ZrVH_21SfWeuMkMxQ</td>\n",
       "      <td>5</td>\n",
       "      <td>Went here for my husbands 40th birthday last y...</td>\n",
       "      <td>0</td>\n",
       "      <td>y0cleYfYK1FISjZeX5elrA</td>\n",
       "    </tr>\n",
       "    <tr>\n",
       "      <th>9</th>\n",
       "      <td>--9e1ONYQuAa-CB_Rrw7Tw</td>\n",
       "      <td>Delmonico Steakhouse</td>\n",
       "      <td>Steakhouses, Restaurants, Cajun/Creole</td>\n",
       "      <td>4.0</td>\n",
       "      <td>0</td>\n",
       "      <td>2018-01-24</td>\n",
       "      <td>0</td>\n",
       "      <td>nGtACcrQLEhz7H1V5HRfkQ</td>\n",
       "      <td>2</td>\n",
       "      <td>Very bland room, very bland sides, steak was t...</td>\n",
       "      <td>1</td>\n",
       "      <td>xSG7VajnEch1oA33FAZ0Jw</td>\n",
       "    </tr>\n",
       "  </tbody>\n",
       "</table>\n",
       "</div>"
      ],
      "text/plain": [
       "              business_id                  name  \\\n",
       "0  --9e1ONYQuAa-CB_Rrw7Tw  Delmonico Steakhouse   \n",
       "1  --9e1ONYQuAa-CB_Rrw7Tw  Delmonico Steakhouse   \n",
       "2  --9e1ONYQuAa-CB_Rrw7Tw  Delmonico Steakhouse   \n",
       "3  --9e1ONYQuAa-CB_Rrw7Tw  Delmonico Steakhouse   \n",
       "4  --9e1ONYQuAa-CB_Rrw7Tw  Delmonico Steakhouse   \n",
       "5  --9e1ONYQuAa-CB_Rrw7Tw  Delmonico Steakhouse   \n",
       "6  --9e1ONYQuAa-CB_Rrw7Tw  Delmonico Steakhouse   \n",
       "7  --9e1ONYQuAa-CB_Rrw7Tw  Delmonico Steakhouse   \n",
       "8  --9e1ONYQuAa-CB_Rrw7Tw  Delmonico Steakhouse   \n",
       "9  --9e1ONYQuAa-CB_Rrw7Tw  Delmonico Steakhouse   \n",
       "\n",
       "                               categories  avg_stars  cool        date  funny  \\\n",
       "0  Steakhouses, Restaurants, Cajun/Creole        4.0     0  2017-02-14      0   \n",
       "1  Steakhouses, Restaurants, Cajun/Creole        4.0     0  2017-12-04      0   \n",
       "2  Steakhouses, Restaurants, Cajun/Creole        4.0     0  2017-05-20      0   \n",
       "3  Steakhouses, Restaurants, Cajun/Creole        4.0     0  2017-12-30      0   \n",
       "4  Steakhouses, Restaurants, Cajun/Creole        4.0     0  2017-02-14      0   \n",
       "5  Steakhouses, Restaurants, Cajun/Creole        4.0     0  2017-04-02      0   \n",
       "6  Steakhouses, Restaurants, Cajun/Creole        4.0     0  2018-01-04      0   \n",
       "7  Steakhouses, Restaurants, Cajun/Creole        4.0     0  2017-05-08      0   \n",
       "8  Steakhouses, Restaurants, Cajun/Creole        4.0     0  2017-08-30      0   \n",
       "9  Steakhouses, Restaurants, Cajun/Creole        4.0     0  2018-01-24      0   \n",
       "\n",
       "                review_id  stars  \\\n",
       "0  VETXTwMw6qxzOVDlXfe6Tg      5   \n",
       "1  S8-8uZ7fa5YbjnEtaW15ng      5   \n",
       "2  Pnkrj90xfykhHyo4BSFRsw      5   \n",
       "3  Oeh7e6U2xaDQI9L9i4x_Gw      2   \n",
       "4  Xp3ppynEvVu1KxDHQ3ae8w      5   \n",
       "5  kjhk2-OENBAP55Y3KfbpyA      5   \n",
       "6  zwhQh7xRqEFlMr5ZDErIgg      5   \n",
       "7  ftrTcWgixeSzIhUxdtfueg      5   \n",
       "8  VL1e4ZrVH_21SfWeuMkMxQ      5   \n",
       "9  nGtACcrQLEhz7H1V5HRfkQ      2   \n",
       "\n",
       "                                                text  useful  \\\n",
       "0  went for dinner tonight. Amazing my husband ha...       0   \n",
       "1  This was an amazing dinning experience! ORDER ...       0   \n",
       "2  ABSOLUTE MUST IN VEGAS! Loved everything my bo...       0   \n",
       "3  I had high hopes for Delmonico's Steakhouse in...       0   \n",
       "4  Delmonico Steakhouse is a steakhouse owned by ...       0   \n",
       "5  In Vegas a few nights seeking a great steak di...       0   \n",
       "6  My husband and I came out to Vegas for a mini ...       1   \n",
       "7  Wonderful pre-show dinner!  We enjoyed the han...       0   \n",
       "8  Went here for my husbands 40th birthday last y...       0   \n",
       "9  Very bland room, very bland sides, steak was t...       1   \n",
       "\n",
       "                  user_id  \n",
       "0  ymlnR8UeFvB4FZL56tCZsA  \n",
       "1  9pSSL6X6lFpY3FCRLEH3og  \n",
       "2  cZVQGCZ_fHtTdfiyGVJPdg  \n",
       "3  li2cBZl60vgqihDJJG7jeA  \n",
       "4  KC8H7qTZVPIEnanw9fG43g  \n",
       "5  P1O81PTvXaR9kYKaP3_qwg  \n",
       "6  SRVUSTaHsxw9jrWA6mrylA  \n",
       "7  f0apW99d7gn2ztFkF8d_Zg  \n",
       "8  y0cleYfYK1FISjZeX5elrA  \n",
       "9  xSG7VajnEch1oA33FAZ0Jw  "
      ]
     },
     "execution_count": 5,
     "metadata": {},
     "output_type": "execute_result"
    }
   ],
   "source": [
    "df.head(10)"
   ]
  },
  {
   "cell_type": "markdown",
   "metadata": {},
   "source": [
    "## 1. Cluster the review text data for all the restaurants"
   ]
  },
  {
   "cell_type": "markdown",
   "metadata": {},
   "source": [
    "### Define feature variables"
   ]
  },
  {
   "cell_type": "code",
   "execution_count": 6,
   "metadata": {},
   "outputs": [],
   "source": [
    "# Take the values of the column that contains review text data, save to a variable named \"documents\"\n",
    "documents = df['text'].values"
   ]
  },
  {
   "cell_type": "markdown",
   "metadata": {},
   "source": [
    "### Define target variable"
   ]
  },
  {
   "cell_type": "markdown",
   "metadata": {},
   "source": [
    "#### For example, I am interested in perfect (5 stars) and imperfect (1-4 stars) rating"
   ]
  },
  {
   "cell_type": "code",
   "execution_count": 7,
   "metadata": {},
   "outputs": [],
   "source": [
    "# Make a column and take the values, save to a variable named \"target\"\n",
    "df['favorable'] = (df['stars']>4)\n",
    "target = df['favorable'].values"
   ]
  },
  {
   "cell_type": "code",
   "execution_count": 8,
   "metadata": {},
   "outputs": [
    {
     "data": {
      "text/plain": [
       "array([ True,  True,  True, False,  True,  True,  True,  True,  True,\n",
       "       False])"
      ]
     },
     "execution_count": 8,
     "metadata": {},
     "output_type": "execute_result"
    }
   ],
   "source": [
    "target[:10]"
   ]
  },
  {
   "cell_type": "markdown",
   "metadata": {},
   "source": [
    "#### You may want to look at the statistic of the target variable"
   ]
  },
  {
   "cell_type": "code",
   "execution_count": 9,
   "metadata": {},
   "outputs": [
    {
     "data": {
      "text/plain": [
       "(0.49914993914337047, 0.49999927739601785)"
      ]
     },
     "execution_count": 9,
     "metadata": {},
     "output_type": "execute_result"
    }
   ],
   "source": [
    "target.mean(), target.std()"
   ]
  },
  {
   "cell_type": "markdown",
   "metadata": {},
   "source": [
    "### Create training dataset and test dataset"
   ]
  },
  {
   "cell_type": "code",
   "execution_count": 10,
   "metadata": {},
   "outputs": [
    {
     "name": "stderr",
     "output_type": "stream",
     "text": [
      "/anaconda3/lib/python3.6/site-packages/sklearn/cross_validation.py:41: DeprecationWarning: This module was deprecated in version 0.18 in favor of the model_selection module into which all the refactored classes and functions are moved. Also note that the interface of the new CV iterators are different from that of this module. This module will be removed in 0.20.\n",
      "  \"This module will be removed in 0.20.\", DeprecationWarning)\n"
     ]
    }
   ],
   "source": [
    "from sklearn.cross_validation import train_test_split"
   ]
  },
  {
   "cell_type": "code",
   "execution_count": 11,
   "metadata": {},
   "outputs": [],
   "source": [
    "# documents is X, target is y\n",
    "# Now split the data to training set and test set\n",
    "documents_train, documents_test, target_train, target_test = train_test_split(\n",
    "    documents,\n",
    "    target,\n",
    "    test_size = 0.2,\n",
    "    random_state = 3)"
   ]
  },
  {
   "cell_type": "markdown",
   "metadata": {},
   "source": [
    "### Get NLP representation of the documents\n",
    "\n",
    "#### Fit TfidfVectorizer with training data only, then tranform all the data to tf-idf"
   ]
  },
  {
   "cell_type": "code",
   "execution_count": 12,
   "metadata": {},
   "outputs": [],
   "source": [
    "from sklearn.feature_extraction.text import TfidfVectorizer"
   ]
  },
  {
   "cell_type": "code",
   "execution_count": 14,
   "metadata": {},
   "outputs": [],
   "source": [
    "# Create TfidfVectorizer, and name it vectorizer, choose a reasonable max_features, e.g. 1000\n",
    "vectorizer = TfidfVectorizer(stop_words = 'english', max_features = 1000)"
   ]
  },
  {
   "cell_type": "code",
   "execution_count": 15,
   "metadata": {},
   "outputs": [],
   "source": [
    "# Train the model with your training data\n",
    "vectors_train = vectorizer.fit_transform(documents_train).toarray()"
   ]
  },
  {
   "cell_type": "code",
   "execution_count": 16,
   "metadata": {},
   "outputs": [],
   "source": [
    "# Get the vocab of your tfidf\n",
    "words = vectorizer.get_feature_names()"
   ]
  },
  {
   "cell_type": "code",
   "execution_count": 18,
   "metadata": {},
   "outputs": [
    {
     "data": {
      "text/plain": [
       "(248452, 1000)"
      ]
     },
     "execution_count": 18,
     "metadata": {},
     "output_type": "execute_result"
    }
   ],
   "source": [
    "vectors_train.shape"
   ]
  },
  {
   "cell_type": "code",
   "execution_count": 19,
   "metadata": {},
   "outputs": [],
   "source": [
    "# Use the trained model to transform all the reviews\n",
    "vectors_documents = vectorizer.transform(documents).toarray()"
   ]
  },
  {
   "cell_type": "markdown",
   "metadata": {},
   "source": [
    "### Cluster reviews with KMeans"
   ]
  },
  {
   "cell_type": "markdown",
   "metadata": {},
   "source": [
    "#### Fit k-means clustering with the training vectors and apply it on all the data"
   ]
  },
  {
   "cell_type": "code",
   "execution_count": 20,
   "metadata": {},
   "outputs": [
    {
     "data": {
      "text/plain": [
       "KMeans(algorithm='auto', copy_x=True, init='k-means++', max_iter=300,\n",
       "    n_clusters=8, n_init=10, n_jobs=1, precompute_distances='auto',\n",
       "    random_state=None, tol=0.0001, verbose=0)"
      ]
     },
     "execution_count": 20,
     "metadata": {},
     "output_type": "execute_result"
    }
   ],
   "source": [
    "from sklearn.cluster import KMeans\n",
    "\n",
    "kmeans = KMeans()\n",
    "kmeans.fit(vectors_train)"
   ]
  },
  {
   "cell_type": "markdown",
   "metadata": {},
   "source": [
    "#### Make predictions on all your data"
   ]
  },
  {
   "cell_type": "code",
   "execution_count": 21,
   "metadata": {},
   "outputs": [],
   "source": [
    "assigned_cluster = kmeans.predict(vectors_documents)"
   ]
  },
  {
   "cell_type": "markdown",
   "metadata": {},
   "source": [
    "#### Inspect the centroids\n",
    "To find out what \"topics\" Kmeans has discovered we must inspect the centroids. Print out the centroids of the Kmeans clustering.\n",
    "\n",
    "   These centroids are simply a bunch of vectors.  To make any sense of them we need to map these vectors back into our 'word space'.  Think of each feature/dimension of the centroid vector as representing the \"average\" review or the average occurances of words for that cluster."
   ]
  },
  {
   "cell_type": "code",
   "execution_count": 23,
   "metadata": {},
   "outputs": [
    {
     "name": "stdout",
     "output_type": "stream",
     "text": [
      "Cluster centers:\n",
      "(8, 1000)\n"
     ]
    }
   ],
   "source": [
    "print(\"Cluster centers:\")\n",
    "print(kmeans.cluster_centers_.shape)"
   ]
  },
  {
   "cell_type": "markdown",
   "metadata": {},
   "source": [
    "#### Find the top 10 features for each cluster.\n",
    "For topics we are only really interested in the most present words, i.e. features/dimensions with the greatest representation in the centroid.  Print out the top ten words for each centroid.\n",
    "\n",
    "* Sort each centroid vector to find the top 10 features\n",
    "* Go back to your vectorizer object to find out what words each of these features corresponds to.\n"
   ]
  },
  {
   "cell_type": "code",
   "execution_count": 24,
   "metadata": {},
   "outputs": [],
   "source": [
    "n_feat = 10\n",
    "top_centroids = kmeans.cluster_centers_.argsort()[:,-1:-n_feat:-1]"
   ]
  },
  {
   "cell_type": "code",
   "execution_count": 25,
   "metadata": {},
   "outputs": [
    {
     "name": "stdout",
     "output_type": "stream",
     "text": [
      "top features for each cluster:\n",
      "0: chicken,good,fried,food,rice,ordered,place,great,delicious\n",
      "1: sushi,place,rolls,roll,ayce,good,great,service,fresh\n",
      "2: burger,fries,burgers,good,place,food,cheese,shake,great\n",
      "3: good,food,place,like,really,just,service,ordered,nice\n",
      "4: great,food,service,place,good,friendly,staff,atmosphere,definitely\n",
      "5: order,food,time,minutes,service,just,came,asked,said\n",
      "6: amazing,food,best,place,vegas,love,service,delicious,friendly\n",
      "7: pizza,crust,good,place,great,cheese,slice,order,best\n"
     ]
    }
   ],
   "source": [
    "print (\"top features for each cluster:\")\n",
    "for num, centroid in enumerate(top_centroids):\n",
    "    print(\"%d: %s\" % (num, \",\".join(words[i] for i in centroid)))"
   ]
  },
  {
   "cell_type": "markdown",
   "metadata": {},
   "source": [
    "#### Try different k\n",
    "If you set k == to a different number, how does the top features change?"
   ]
  },
  {
   "cell_type": "code",
   "execution_count": 26,
   "metadata": {},
   "outputs": [],
   "source": [
    "kmeans = KMeans(n_clusters = 10)\n",
    "kmeans.fit(vectors_train)\n",
    "assigned_cluster = kmeans.predict(vectors_documents)"
   ]
  },
  {
   "cell_type": "code",
   "execution_count": 27,
   "metadata": {},
   "outputs": [],
   "source": [
    "n_feat = 10\n",
    "top_centroids = kmeans.cluster_centers_.argsort()[:,-1:-n_feat:-1]"
   ]
  },
  {
   "cell_type": "code",
   "execution_count": 28,
   "metadata": {},
   "outputs": [
    {
     "name": "stdout",
     "output_type": "stream",
     "text": [
      "top features for each cluster:\n",
      "0: vegas,las,best,food,place,great,time,service,restaurant\n",
      "1: sushi,place,rolls,roll,ayce,great,good,service,fresh\n",
      "2: great,food,service,place,friendly,awesome,staff,atmosphere,definitely\n",
      "3: order,food,minutes,time,service,just,came,asked,said\n",
      "4: pizza,crust,good,place,great,cheese,slice,order,ordered\n",
      "5: chicken,fried,good,food,rice,ordered,place,great,sauce\n",
      "6: burger,fries,burgers,good,place,cheese,food,shake,great\n",
      "7: amazing,food,service,place,great,best,definitely,love,delicious\n",
      "8: place,food,delicious,like,just,love,service,ordered,time\n",
      "9: good,food,really,place,service,nice,pretty,like,great\n"
     ]
    }
   ],
   "source": [
    "print (\"top features for each cluster:\")\n",
    "for num, centroid in enumerate(top_centroids):\n",
    "    print(\"%d: %s\" % (num, \",\".join(words[i] for i in centroid)))"
   ]
  },
  {
   "cell_type": "markdown",
   "metadata": {},
   "source": [
    "#### Print out the rating and review of a random sample of the reviews assigned to each cluster to get a sense of the cluster."
   ]
  },
  {
   "cell_type": "code",
   "execution_count": 30,
   "metadata": {},
   "outputs": [
    {
     "name": "stdout",
     "output_type": "stream",
     "text": [
      "==========\n",
      "Cluster 0:\n",
      "   5 -\n",
      "This is probably my favorite restaurant in Las Vegas. My wife and I have been coming for years.\n",
      "\n",
      "We arrived in Las Vegas and went straight here for dinner. We had the stuffed mushrooms with chorizo, stuffed dates, manchego cheese / apple cheese salad, ceviche and camarones diablo. All delicious and reasonably priced.\n",
      "\n",
      "The drinks are refreshing and delicious. I started off with the Passion Fruit Mojito and ended with a Watermelon flavored mojito. Both delicious but entirely different flavors. The passion fruit sour and watermelon sweet.\n",
      "\n",
      "The waiters and waitresses are very knowledgeable and service was impeccable. Can not wait to come back once visiting Vegas again.\n",
      "   5 -\n",
      "Wednesday, January 3rd 2018 3 PM\n",
      "\n",
      "This review will be my last of Glazier's since Smith's bought the building..  We've been shopping here over 6 years now and we drive out of our way to shop there.  I will miss this East Coast family market. They had the best steak dinners for under $10!  The carried the best Italian cheese raviolis and Drake's Devil dogs.  They served Spring Valley well over the last 8 and were voted best of Las Vegas for years.   I will miss them so dearly. I posted pictures not sure why they weren't with the review?\n",
      "==========\n",
      "Cluster 1:\n",
      "   5 -\n",
      "The sushi is great and the servers are awesome.  This is definitely my new fav sushi place.\n",
      "   5 -\n",
      "Some of the best variety ive seen in Vegas. Nice small portions to try a lot of different items. Friendly service. 20 bucks for all you can drink for two also! Some of the sushi was a little stale but overall the food was high quality even for the few international pieces I didn't care for.\n",
      "==========\n",
      "Cluster 2:\n",
      "   5 -\n",
      "This place is amazing! The food is great! Like omg\n",
      "Great. The prices are more than reasonable and it's pretty much my fav breakfast place. Only thing i find annoying is how busy it is on the weekend hahha u do wait a while for a table but that just goes to show how great this place is . We live across street so we will be coming often\n",
      "   5 -\n",
      "Absolutely beautiful Sports Bar. Decor is stunning, artistic and extremely clean. They also have an outdoor patio with fire pit for nighttime dining when the weather is cooler. Very sexy relaxing atmosphere all around.\n",
      "\n",
      "Stopped in for lunch with my sister as she said they had a great affordable menu.\n",
      "\n",
      "I ordered the BBQ Chipotle Carnita Street Tacos and my sister ordered the breakfast sandwich  with fresh breakfast potatoes. Both plates were $9 and the portions were perfect for a light lunch. We both enjoyed our food and will definitely stop in again and try some of the other dishes they offer.\n",
      "\n",
      "Our waitress was very attentive and sweet. Thank you! Great establishment!\n",
      "==========\n",
      "Cluster 3:\n",
      "   1 -\n",
      "Rude staff overpriced food doors are open flies all over my food cashier very rude chick about 35 to 40 years old dark hair very rude or disrespectful overpriced food don't waste your time they were also rude to my Uber driver\n",
      "   1 -\n",
      "Stopped by on swing shift last night around 8pm ish. A guy was bartending with tattoos....he was busy flirting with the girls and I could not get a drink. When he did take my order, he stopped and started helping other girls on the opposite side of the bar.\n",
      "\n",
      "However funny it was to watch him.... I still didnt get my drink...I cashed out and left\n",
      "==========\n",
      "Cluster 4:\n",
      "   5 -\n",
      "Open air restaurant in front of Bally's among the other retail shops facing the strip. Ordered a small deep dish pizza for the two of us. It took 45 minutes which our waiter advised us it will take. Ok man but we were hungryyy! The pizza finally arrived and boy, the wait was really worth it. The crust is so crispy and reminded me of a dessert pie crust. One slice actually filled me up because it was gooey, thick, and so satisfying. It is a MUST try if you are craving pizza on the strip. Parking in Bally's and surrounding hotels will cost you at least $7+ for self park.\n",
      "   5 -\n",
      "Five stars with all !!!\n",
      "Pizza, sandwiches, desserts, beer on tap nice and cold, second time here and always delicious\n",
      "==========\n",
      "Cluster 5:\n",
      "   4 -\n",
      "I would love to give this a five, but the food. It stopped me. To start my partner and I had guacamole with tortilla chips, tip, if you make guacamole never forget the Lime/lemon; the plate was very bland due to sodium in the chips and guacamole. My partner ordered the vampire tacos, the beans weren't prepared well (they tasted like Bush's baked canned beans), and the rice was not zesty and flavorful as you would expect assuming it's a \"mexican\" dish, little seasoning would have made a big difference. The vampire tacos, I'm not sure where putting Bacon with Guacamole in one bite sounded appetizing but it wasn't, the plate was not finished but put aside instead, but then again who orders tacos from a Yard House?!! I had the Pene With Chicken, I originally wanted Chicken parm but they did not serve it so I got the pene instead. My chicken was dry, the Pene was very brittle, my chicken too over cooked and the plate had very little sauce which made my plate bland. I instantly had to bring my imagination to the plate and asked for Marinara with cilantro and pour it over my Chicken Pene and INSTANTLY my plate came to life, it was just flavorful and made the plate a house classic, I wish I could have recommended for it to be on the menu. But before I finish, I must say what made our experience so great was Justin, he was our server and he made sure we were taken care of when it came to our needs and that's what matters when you leave a restaurant. Came for a late night dinner and couldn't have left more fulfilled. Thank you Justin and tip to the cooks, sit the chicken on low fire, cheers.\n",
      "   1 -\n",
      "Worse El pollo loco I ever tried!!!!! I will never go there just because of this experience that I had. I took Rancho burrito with chicken and what I got???? A lot of rice instead of chicken. Staff doesn't know how talk to customers. Sauce bar was empty. Worse place ever!\n",
      "==========\n",
      "Cluster 6:\n",
      "   5 -\n",
      "First time trying this place and i absolutely loved it. You get to mix and match every burger you get, including different types of meats, sauces and cheese. There's a few add ons at am extra charge like avocado or an egg but it was only about 75cents. I can't wait til they open their new location on Rainbow in the Southwest.\n",
      "   5 -\n",
      "WOW.  Let's start with the onion rings. No doubt the best I've ever had and I ordered them as appetizer at the suggestion of my waitress Julia to nibble on while they make my Backyard Burger. Great suggestion. Now it's time to move on to the Backyard Burger. The burger was delicious, sweet pickles were a great addition to the burger. Lettuce, onions and tomatoes were fresh. So with all that being said. Hats off to this amazing burger.  Ok. What about dessert? I had to try the Cream Brûlée Oreo Shake.  It sounded good on the menu and was even better on the taste buds. Great food and service makes this an easy  5 Star Review from me.\n",
      "==========\n",
      "Cluster 7:\n",
      "   5 -\n",
      "I am on a special diet and the chef personally came out to answer my questions and she is preparing my meal to order. Amazing friendly service and an awesome view of the strip!\n",
      "   5 -\n",
      "This place is amazing! We ate here twice for breakfast during our short vegas stay. Eat at the bar for a comedy show\n",
      "==========\n",
      "Cluster 8:\n",
      "   4 -\n",
      "Pho is perfect for your hangover needs and late night cravings away from the strip. They're open 24/7!! The wait can get pretty busy here at night so just remember to write your name down on the clipboard as soon as you get through the door. \n",
      "\n",
      "You can't go wrong with any of the pho selections, food comes out quickly and piping hot! My only complaint is that the broth isn't as clear as I like but that could also be because of the rare pieces of meat that the broth is poured over. Still, it's a solid place for pho in Vegas.\n",
      "   5 -\n",
      "Went right when they opened and everything was impeccable. The food was superb, we began with the lobster risotto, moved on to beef Wellington (far superior to the one I had at Gordon Ramsay's steak is Paris) I almost didn't try it here because of that last experience, boy am I glad I tried again! Great flavor. My husband ordered the NY Strip, he was delighted! My mother ordered the short ribs and loved the dish, she has been raving about this experience ever since. The signature cocktails are unique, refreshing, and delicious! Be sure to order notes from Gordon (I think that's the name of it). We also ordered the Mac n cheese which is great if you like a Smokey flavor. Moving on to dessert with the toffee cake and pineapple carpaccio... O.M.G. AMAZING!!!! \n",
      "The service was on point, attentive and knowledgeable especially for a brand I new restaurant! I was very impressed from start to finish with our experience. Their unique presentations for drinks and some of their food items were the cherry on top to a wonderful evening. We will absolutely be returning for another fabulous evening! Thank you Hell's Kitchen staff!!\n",
      "==========\n",
      "Cluster 9:\n",
      "   5 -\n",
      "We came really early, around noon on a Thursday and it wasn't busy at all. We came because my friend said they have a great fish to rice ratio. And boy, was she right. I had like a 3:1 ratio of fish to rice!! Crazy!!\n",
      "\n",
      "***ORDER THE PANG APPETIZER!!!!!****\n",
      "\n",
      "We ordered salmon, tuna, garlic tuna, yellowtail, albacore and red snapper nigiri. The Albacore was so good!!! Everything else was good too, but the albacore stayed on my taste buds for a hot minute. MMM-MMM! The garlic tuna and tuna nigiri really didn't have much of a difference, other than a bit of garlic on the tuna.\n",
      "\n",
      "We then ordered a few rolls and good thing we decided on half rolls, because those portions were HUGE! We ordered the No. 1 Chef Makes, Hawaiian, Be Sexy Tonight and Be Happy. Out of these 4, I would definitely DEFINITELY recommend the Be Sexy Tonight! It was sooooo good!\n",
      "\n",
      "Downside is their dessert isn't that great; but I came for sushi not dessert. I got the green tea ice cream and it was hard as a rock and didn't taste like green tea. It had a weird taste to it.... I also got the tiramisu. Flavor was lacking as well; and like the pictures showed, it's tiny.\n",
      "   3 -\n",
      "Good food, good quality and fast service, always open late. But way overpriced for what you get.\n"
     ]
    }
   ],
   "source": [
    "for i in range(kmeans.n_clusters):\n",
    "    cluster = np.arange(0, vectors_documents.shape[0])[assigned_cluster == i]\n",
    "    sample_reviews = np.random.choice(cluster, 2, replace = False)\n",
    "    print(\"=\"*10)\n",
    "    print(\"Cluster %d:\" %i)\n",
    "    for review_index in sample_reviews:\n",
    "        print(\"   %s -\" % df.loc[review_index]['stars'])\n",
    "        print(\"%s\" % df.loc[review_index]['text'])\n",
    "    print"
   ]
  },
  {
   "cell_type": "markdown",
   "metadata": {},
   "source": [
    "## 2. Cluster all the reviews of the most reviewed restaurant\n",
    "Let's find the most reviewed restaurant and analyze its reviews"
   ]
  },
  {
   "cell_type": "code",
   "execution_count": 31,
   "metadata": {},
   "outputs": [],
   "source": [
    "# Find the business who got most reviews, get your filtered df, name it df_top_restaurant\n",
    "most_reviewed_restaurant= df ['business_id'].value_counts().index[0]"
   ]
  },
  {
   "cell_type": "markdown",
   "metadata": {},
   "source": [
    "We can also load restaurant profile information from the business dataset (optional)"
   ]
  },
  {
   "cell_type": "code",
   "execution_count": 43,
   "metadata": {},
   "outputs": [
    {
     "data": {
      "text/html": [
       "<div>\n",
       "<style scoped>\n",
       "    .dataframe tbody tr th:only-of-type {\n",
       "        vertical-align: middle;\n",
       "    }\n",
       "\n",
       "    .dataframe tbody tr th {\n",
       "        vertical-align: top;\n",
       "    }\n",
       "\n",
       "    .dataframe thead th {\n",
       "        text-align: right;\n",
       "    }\n",
       "</style>\n",
       "<table border=\"1\" class=\"dataframe\">\n",
       "  <thead>\n",
       "    <tr style=\"text-align: right;\">\n",
       "      <th></th>\n",
       "      <th>index</th>\n",
       "      <th>business_id</th>\n",
       "      <th>name</th>\n",
       "      <th>categories</th>\n",
       "      <th>avg_stars</th>\n",
       "      <th>cool</th>\n",
       "      <th>date</th>\n",
       "      <th>funny</th>\n",
       "      <th>review_id</th>\n",
       "      <th>stars</th>\n",
       "      <th>text</th>\n",
       "      <th>useful</th>\n",
       "      <th>user_id</th>\n",
       "      <th>favorable</th>\n",
       "    </tr>\n",
       "  </thead>\n",
       "  <tbody>\n",
       "    <tr>\n",
       "      <th>0</th>\n",
       "      <td>135917</td>\n",
       "      <td>RESDUcs7fIiihp38-d6_6g</td>\n",
       "      <td>Bacchanal Buffet</td>\n",
       "      <td>Sandwiches, Buffets, Breakfast &amp; Brunch, Food,...</td>\n",
       "      <td>4.0</td>\n",
       "      <td>0</td>\n",
       "      <td>2017-09-09</td>\n",
       "      <td>0</td>\n",
       "      <td>mQfl6ci46mu0xaZrkRUhlA</td>\n",
       "      <td>5</td>\n",
       "      <td>This buffet is amazing.  Yes, it is expensive,...</td>\n",
       "      <td>0</td>\n",
       "      <td>f638AHA_GoHbyDB7VFMz7A</td>\n",
       "      <td>True</td>\n",
       "    </tr>\n",
       "    <tr>\n",
       "      <th>1</th>\n",
       "      <td>135918</td>\n",
       "      <td>RESDUcs7fIiihp38-d6_6g</td>\n",
       "      <td>Bacchanal Buffet</td>\n",
       "      <td>Sandwiches, Buffets, Breakfast &amp; Brunch, Food,...</td>\n",
       "      <td>4.0</td>\n",
       "      <td>0</td>\n",
       "      <td>2017-02-08</td>\n",
       "      <td>0</td>\n",
       "      <td>lMarDJDg4-e_0YoJOKJoWA</td>\n",
       "      <td>2</td>\n",
       "      <td>This place....lol our server was nice.  But fo...</td>\n",
       "      <td>0</td>\n",
       "      <td>A21zMqdN76ueLZFpmbue0Q</td>\n",
       "      <td>False</td>\n",
       "    </tr>\n",
       "    <tr>\n",
       "      <th>2</th>\n",
       "      <td>135919</td>\n",
       "      <td>RESDUcs7fIiihp38-d6_6g</td>\n",
       "      <td>Bacchanal Buffet</td>\n",
       "      <td>Sandwiches, Buffets, Breakfast &amp; Brunch, Food,...</td>\n",
       "      <td>4.0</td>\n",
       "      <td>0</td>\n",
       "      <td>2017-12-22</td>\n",
       "      <td>0</td>\n",
       "      <td>30xmXTzJwHPcqt0uvSLQhQ</td>\n",
       "      <td>3</td>\n",
       "      <td>One star knocked off for the cold air conditio...</td>\n",
       "      <td>0</td>\n",
       "      <td>uNHEnP28MMmVy96ZSJKaMA</td>\n",
       "      <td>False</td>\n",
       "    </tr>\n",
       "    <tr>\n",
       "      <th>3</th>\n",
       "      <td>135920</td>\n",
       "      <td>RESDUcs7fIiihp38-d6_6g</td>\n",
       "      <td>Bacchanal Buffet</td>\n",
       "      <td>Sandwiches, Buffets, Breakfast &amp; Brunch, Food,...</td>\n",
       "      <td>4.0</td>\n",
       "      <td>0</td>\n",
       "      <td>2017-09-22</td>\n",
       "      <td>0</td>\n",
       "      <td>SOUuNn4f1fHKxFHntYzonw</td>\n",
       "      <td>3</td>\n",
       "      <td>Was torn between 2 and 3.  Caught the last of ...</td>\n",
       "      <td>0</td>\n",
       "      <td>WvVqnHU_eVBUfL-CI9efdw</td>\n",
       "      <td>False</td>\n",
       "    </tr>\n",
       "    <tr>\n",
       "      <th>4</th>\n",
       "      <td>135921</td>\n",
       "      <td>RESDUcs7fIiihp38-d6_6g</td>\n",
       "      <td>Bacchanal Buffet</td>\n",
       "      <td>Sandwiches, Buffets, Breakfast &amp; Brunch, Food,...</td>\n",
       "      <td>4.0</td>\n",
       "      <td>0</td>\n",
       "      <td>2017-06-18</td>\n",
       "      <td>0</td>\n",
       "      <td>nnmcNHGLa6TTZ4KP7ZrU7A</td>\n",
       "      <td>1</td>\n",
       "      <td>Food is subpar. There's a line to get to pay, ...</td>\n",
       "      <td>0</td>\n",
       "      <td>KIbfAG_JrTEPt6aQXcnQJg</td>\n",
       "      <td>False</td>\n",
       "    </tr>\n",
       "    <tr>\n",
       "      <th>5</th>\n",
       "      <td>135922</td>\n",
       "      <td>RESDUcs7fIiihp38-d6_6g</td>\n",
       "      <td>Bacchanal Buffet</td>\n",
       "      <td>Sandwiches, Buffets, Breakfast &amp; Brunch, Food,...</td>\n",
       "      <td>4.0</td>\n",
       "      <td>1</td>\n",
       "      <td>2017-02-28</td>\n",
       "      <td>0</td>\n",
       "      <td>NXOgf4JQNbskd2XYhPJB7A</td>\n",
       "      <td>5</td>\n",
       "      <td>This buffet was amazing! It was a bit pricey, ...</td>\n",
       "      <td>1</td>\n",
       "      <td>wHeH7PwKHubMjmx9SroN4w</td>\n",
       "      <td>True</td>\n",
       "    </tr>\n",
       "    <tr>\n",
       "      <th>6</th>\n",
       "      <td>135923</td>\n",
       "      <td>RESDUcs7fIiihp38-d6_6g</td>\n",
       "      <td>Bacchanal Buffet</td>\n",
       "      <td>Sandwiches, Buffets, Breakfast &amp; Brunch, Food,...</td>\n",
       "      <td>4.0</td>\n",
       "      <td>0</td>\n",
       "      <td>2017-07-02</td>\n",
       "      <td>0</td>\n",
       "      <td>Xci8QJaDOB7OazJIP9U0Cw</td>\n",
       "      <td>5</td>\n",
       "      <td>I'm staying at Caesar's Palace for 4th of July...</td>\n",
       "      <td>0</td>\n",
       "      <td>J90_7u_8vPYa03GMohNxAA</td>\n",
       "      <td>True</td>\n",
       "    </tr>\n",
       "    <tr>\n",
       "      <th>7</th>\n",
       "      <td>135924</td>\n",
       "      <td>RESDUcs7fIiihp38-d6_6g</td>\n",
       "      <td>Bacchanal Buffet</td>\n",
       "      <td>Sandwiches, Buffets, Breakfast &amp; Brunch, Food,...</td>\n",
       "      <td>4.0</td>\n",
       "      <td>0</td>\n",
       "      <td>2017-11-26</td>\n",
       "      <td>0</td>\n",
       "      <td>n6rHMUT-AWKkAro8Ho6-Fw</td>\n",
       "      <td>4</td>\n",
       "      <td>Sunday brunch at Caesar's is pricey. The food ...</td>\n",
       "      <td>2</td>\n",
       "      <td>sfpgA58pdGKebocTe4N_-w</td>\n",
       "      <td>False</td>\n",
       "    </tr>\n",
       "    <tr>\n",
       "      <th>8</th>\n",
       "      <td>135925</td>\n",
       "      <td>RESDUcs7fIiihp38-d6_6g</td>\n",
       "      <td>Bacchanal Buffet</td>\n",
       "      <td>Sandwiches, Buffets, Breakfast &amp; Brunch, Food,...</td>\n",
       "      <td>4.0</td>\n",
       "      <td>0</td>\n",
       "      <td>2017-04-06</td>\n",
       "      <td>0</td>\n",
       "      <td>vAohFUTT0d8GkMPyItcT5Q</td>\n",
       "      <td>5</td>\n",
       "      <td>Best buffet in Vegas!  By far this buffet in i...</td>\n",
       "      <td>0</td>\n",
       "      <td>Hc0v8M1RP6sUuFQ2_zLP6Q</td>\n",
       "      <td>True</td>\n",
       "    </tr>\n",
       "    <tr>\n",
       "      <th>9</th>\n",
       "      <td>135926</td>\n",
       "      <td>RESDUcs7fIiihp38-d6_6g</td>\n",
       "      <td>Bacchanal Buffet</td>\n",
       "      <td>Sandwiches, Buffets, Breakfast &amp; Brunch, Food,...</td>\n",
       "      <td>4.0</td>\n",
       "      <td>0</td>\n",
       "      <td>2017-05-21</td>\n",
       "      <td>0</td>\n",
       "      <td>bwi8o0poN-38SrLla5cPCg</td>\n",
       "      <td>1</td>\n",
       "      <td>Below average, most items not served hot. Too ...</td>\n",
       "      <td>0</td>\n",
       "      <td>sY3dmQqrXChk_Xu8Oq3bNw</td>\n",
       "      <td>False</td>\n",
       "    </tr>\n",
       "    <tr>\n",
       "      <th>10</th>\n",
       "      <td>135927</td>\n",
       "      <td>RESDUcs7fIiihp38-d6_6g</td>\n",
       "      <td>Bacchanal Buffet</td>\n",
       "      <td>Sandwiches, Buffets, Breakfast &amp; Brunch, Food,...</td>\n",
       "      <td>4.0</td>\n",
       "      <td>0</td>\n",
       "      <td>2017-10-25</td>\n",
       "      <td>0</td>\n",
       "      <td>a6eHidYE-UuIEjHLv6HWEQ</td>\n",
       "      <td>4</td>\n",
       "      <td>I really liked all the options they have here....</td>\n",
       "      <td>0</td>\n",
       "      <td>6y6DP6oaKsrjWJzZgBPsrw</td>\n",
       "      <td>False</td>\n",
       "    </tr>\n",
       "    <tr>\n",
       "      <th>11</th>\n",
       "      <td>135928</td>\n",
       "      <td>RESDUcs7fIiihp38-d6_6g</td>\n",
       "      <td>Bacchanal Buffet</td>\n",
       "      <td>Sandwiches, Buffets, Breakfast &amp; Brunch, Food,...</td>\n",
       "      <td>4.0</td>\n",
       "      <td>0</td>\n",
       "      <td>2017-04-30</td>\n",
       "      <td>0</td>\n",
       "      <td>ONiPKlYDi4TSrc6cSTF_Rw</td>\n",
       "      <td>1</td>\n",
       "      <td>The food is not so uniformly bad that it warra...</td>\n",
       "      <td>0</td>\n",
       "      <td>zNIY5gxR2Co3zxwzhNUqdw</td>\n",
       "      <td>False</td>\n",
       "    </tr>\n",
       "    <tr>\n",
       "      <th>12</th>\n",
       "      <td>135929</td>\n",
       "      <td>RESDUcs7fIiihp38-d6_6g</td>\n",
       "      <td>Bacchanal Buffet</td>\n",
       "      <td>Sandwiches, Buffets, Breakfast &amp; Brunch, Food,...</td>\n",
       "      <td>4.0</td>\n",
       "      <td>0</td>\n",
       "      <td>2017-12-25</td>\n",
       "      <td>0</td>\n",
       "      <td>EgzMuY3EFSlHXHt4CsrVwQ</td>\n",
       "      <td>1</td>\n",
       "      <td>This review is for customer service and not fo...</td>\n",
       "      <td>0</td>\n",
       "      <td>W-Qv_mWXqXQRO_tHEA5IdA</td>\n",
       "      <td>False</td>\n",
       "    </tr>\n",
       "    <tr>\n",
       "      <th>13</th>\n",
       "      <td>135930</td>\n",
       "      <td>RESDUcs7fIiihp38-d6_6g</td>\n",
       "      <td>Bacchanal Buffet</td>\n",
       "      <td>Sandwiches, Buffets, Breakfast &amp; Brunch, Food,...</td>\n",
       "      <td>4.0</td>\n",
       "      <td>0</td>\n",
       "      <td>2017-08-08</td>\n",
       "      <td>0</td>\n",
       "      <td>4OI80M9-YRSFwBvjDRwDTA</td>\n",
       "      <td>4</td>\n",
       "      <td>They have a vast amount of offerings and are s...</td>\n",
       "      <td>0</td>\n",
       "      <td>7WCWbSWAOxaAu2DoK76D1g</td>\n",
       "      <td>False</td>\n",
       "    </tr>\n",
       "    <tr>\n",
       "      <th>14</th>\n",
       "      <td>135931</td>\n",
       "      <td>RESDUcs7fIiihp38-d6_6g</td>\n",
       "      <td>Bacchanal Buffet</td>\n",
       "      <td>Sandwiches, Buffets, Breakfast &amp; Brunch, Food,...</td>\n",
       "      <td>4.0</td>\n",
       "      <td>0</td>\n",
       "      <td>2018-01-05</td>\n",
       "      <td>0</td>\n",
       "      <td>NgMaDXWgIY9vVdzFfPWjDg</td>\n",
       "      <td>1</td>\n",
       "      <td>This review is only for the Christmas Feast. T...</td>\n",
       "      <td>2</td>\n",
       "      <td>9RRbE-vBxAEVUEUk7rYBvg</td>\n",
       "      <td>False</td>\n",
       "    </tr>\n",
       "    <tr>\n",
       "      <th>15</th>\n",
       "      <td>135932</td>\n",
       "      <td>RESDUcs7fIiihp38-d6_6g</td>\n",
       "      <td>Bacchanal Buffet</td>\n",
       "      <td>Sandwiches, Buffets, Breakfast &amp; Brunch, Food,...</td>\n",
       "      <td>4.0</td>\n",
       "      <td>0</td>\n",
       "      <td>2017-01-18</td>\n",
       "      <td>0</td>\n",
       "      <td>aJQujnov4kkkqEN_sTkVbA</td>\n",
       "      <td>2</td>\n",
       "      <td>Brunch is not worth the price. There's a varie...</td>\n",
       "      <td>0</td>\n",
       "      <td>NehrtwXQHdMG60dNtiirsQ</td>\n",
       "      <td>False</td>\n",
       "    </tr>\n",
       "    <tr>\n",
       "      <th>16</th>\n",
       "      <td>135933</td>\n",
       "      <td>RESDUcs7fIiihp38-d6_6g</td>\n",
       "      <td>Bacchanal Buffet</td>\n",
       "      <td>Sandwiches, Buffets, Breakfast &amp; Brunch, Food,...</td>\n",
       "      <td>4.0</td>\n",
       "      <td>0</td>\n",
       "      <td>2017-06-17</td>\n",
       "      <td>0</td>\n",
       "      <td>C5qArpcpZTgYV3rh9zAYjA</td>\n",
       "      <td>2</td>\n",
       "      <td>When it first opened, this place was beyond am...</td>\n",
       "      <td>1</td>\n",
       "      <td>vrYY6ByqCS-2We-raSqjXQ</td>\n",
       "      <td>False</td>\n",
       "    </tr>\n",
       "    <tr>\n",
       "      <th>17</th>\n",
       "      <td>135934</td>\n",
       "      <td>RESDUcs7fIiihp38-d6_6g</td>\n",
       "      <td>Bacchanal Buffet</td>\n",
       "      <td>Sandwiches, Buffets, Breakfast &amp; Brunch, Food,...</td>\n",
       "      <td>4.0</td>\n",
       "      <td>0</td>\n",
       "      <td>2017-10-24</td>\n",
       "      <td>0</td>\n",
       "      <td>jQchdj7yCdaJuSm7YdgIvQ</td>\n",
       "      <td>5</td>\n",
       "      <td>Best buffet I've ever been to. The quality of ...</td>\n",
       "      <td>0</td>\n",
       "      <td>Aakk0sc4oG66AcodpbppJg</td>\n",
       "      <td>True</td>\n",
       "    </tr>\n",
       "    <tr>\n",
       "      <th>18</th>\n",
       "      <td>135935</td>\n",
       "      <td>RESDUcs7fIiihp38-d6_6g</td>\n",
       "      <td>Bacchanal Buffet</td>\n",
       "      <td>Sandwiches, Buffets, Breakfast &amp; Brunch, Food,...</td>\n",
       "      <td>4.0</td>\n",
       "      <td>0</td>\n",
       "      <td>2017-08-08</td>\n",
       "      <td>0</td>\n",
       "      <td>h0Tq6OITumeTDMP8p_sEmg</td>\n",
       "      <td>5</td>\n",
       "      <td>Amazing food selection and our server, Carlos ...</td>\n",
       "      <td>0</td>\n",
       "      <td>PoriwPcu7mPdeUgyXukLAQ</td>\n",
       "      <td>True</td>\n",
       "    </tr>\n",
       "    <tr>\n",
       "      <th>19</th>\n",
       "      <td>135936</td>\n",
       "      <td>RESDUcs7fIiihp38-d6_6g</td>\n",
       "      <td>Bacchanal Buffet</td>\n",
       "      <td>Sandwiches, Buffets, Breakfast &amp; Brunch, Food,...</td>\n",
       "      <td>4.0</td>\n",
       "      <td>0</td>\n",
       "      <td>2017-01-03</td>\n",
       "      <td>0</td>\n",
       "      <td>fQwJulRkiN3mGnjfF9Vhlw</td>\n",
       "      <td>3</td>\n",
       "      <td>I was so excited to try this buffet, as I was ...</td>\n",
       "      <td>0</td>\n",
       "      <td>Roo5xp66Ky7Su7I8cy03ng</td>\n",
       "      <td>False</td>\n",
       "    </tr>\n",
       "    <tr>\n",
       "      <th>20</th>\n",
       "      <td>135937</td>\n",
       "      <td>RESDUcs7fIiihp38-d6_6g</td>\n",
       "      <td>Bacchanal Buffet</td>\n",
       "      <td>Sandwiches, Buffets, Breakfast &amp; Brunch, Food,...</td>\n",
       "      <td>4.0</td>\n",
       "      <td>0</td>\n",
       "      <td>2017-04-24</td>\n",
       "      <td>0</td>\n",
       "      <td>R8LJHarVssSyHkJXK9H7Jg</td>\n",
       "      <td>1</td>\n",
       "      <td>The food is excellent here but the service is ...</td>\n",
       "      <td>0</td>\n",
       "      <td>eKhIZuHdxKEmFkIZ-esCSg</td>\n",
       "      <td>False</td>\n",
       "    </tr>\n",
       "    <tr>\n",
       "      <th>21</th>\n",
       "      <td>135938</td>\n",
       "      <td>RESDUcs7fIiihp38-d6_6g</td>\n",
       "      <td>Bacchanal Buffet</td>\n",
       "      <td>Sandwiches, Buffets, Breakfast &amp; Brunch, Food,...</td>\n",
       "      <td>4.0</td>\n",
       "      <td>0</td>\n",
       "      <td>2017-07-01</td>\n",
       "      <td>0</td>\n",
       "      <td>U0qiv80DANbYJTf9AvzhLA</td>\n",
       "      <td>4</td>\n",
       "      <td>Came in on Friday and was very exited,because ...</td>\n",
       "      <td>0</td>\n",
       "      <td>xAov4bfHFiAxHafYKL0o9A</td>\n",
       "      <td>False</td>\n",
       "    </tr>\n",
       "    <tr>\n",
       "      <th>22</th>\n",
       "      <td>135939</td>\n",
       "      <td>RESDUcs7fIiihp38-d6_6g</td>\n",
       "      <td>Bacchanal Buffet</td>\n",
       "      <td>Sandwiches, Buffets, Breakfast &amp; Brunch, Food,...</td>\n",
       "      <td>4.0</td>\n",
       "      <td>0</td>\n",
       "      <td>2017-12-25</td>\n",
       "      <td>0</td>\n",
       "      <td>LzfWrvqW3toNSqAyVC2hSQ</td>\n",
       "      <td>1</td>\n",
       "      <td>The service is terrible here. We were told tha...</td>\n",
       "      <td>0</td>\n",
       "      <td>MfB7V8uw5hi4rWg4XhA2Cw</td>\n",
       "      <td>False</td>\n",
       "    </tr>\n",
       "    <tr>\n",
       "      <th>23</th>\n",
       "      <td>135940</td>\n",
       "      <td>RESDUcs7fIiihp38-d6_6g</td>\n",
       "      <td>Bacchanal Buffet</td>\n",
       "      <td>Sandwiches, Buffets, Breakfast &amp; Brunch, Food,...</td>\n",
       "      <td>4.0</td>\n",
       "      <td>0</td>\n",
       "      <td>2017-01-09</td>\n",
       "      <td>0</td>\n",
       "      <td>uphhbB1JUP0pDwByKSwc_A</td>\n",
       "      <td>1</td>\n",
       "      <td>This place is not worth waiting for a couple h...</td>\n",
       "      <td>1</td>\n",
       "      <td>SYtvNKnB5nvDFhz4S9HvaA</td>\n",
       "      <td>False</td>\n",
       "    </tr>\n",
       "    <tr>\n",
       "      <th>24</th>\n",
       "      <td>135941</td>\n",
       "      <td>RESDUcs7fIiihp38-d6_6g</td>\n",
       "      <td>Bacchanal Buffet</td>\n",
       "      <td>Sandwiches, Buffets, Breakfast &amp; Brunch, Food,...</td>\n",
       "      <td>4.0</td>\n",
       "      <td>0</td>\n",
       "      <td>2017-02-02</td>\n",
       "      <td>0</td>\n",
       "      <td>VIyc4l133_AJ9etqxdatMQ</td>\n",
       "      <td>3</td>\n",
       "      <td>Food was good not great, for the price alcohol...</td>\n",
       "      <td>0</td>\n",
       "      <td>p-z4NhgXvD0YIOJMGaKF5A</td>\n",
       "      <td>False</td>\n",
       "    </tr>\n",
       "    <tr>\n",
       "      <th>25</th>\n",
       "      <td>135942</td>\n",
       "      <td>RESDUcs7fIiihp38-d6_6g</td>\n",
       "      <td>Bacchanal Buffet</td>\n",
       "      <td>Sandwiches, Buffets, Breakfast &amp; Brunch, Food,...</td>\n",
       "      <td>4.0</td>\n",
       "      <td>0</td>\n",
       "      <td>2017-08-14</td>\n",
       "      <td>0</td>\n",
       "      <td>gCEGbF9EEe5H_wjK1aLvjQ</td>\n",
       "      <td>3</td>\n",
       "      <td>A lot of waiting and waiting. The food was oka...</td>\n",
       "      <td>0</td>\n",
       "      <td>niokOwzxCXylEBb9DGa4IQ</td>\n",
       "      <td>False</td>\n",
       "    </tr>\n",
       "    <tr>\n",
       "      <th>26</th>\n",
       "      <td>135943</td>\n",
       "      <td>RESDUcs7fIiihp38-d6_6g</td>\n",
       "      <td>Bacchanal Buffet</td>\n",
       "      <td>Sandwiches, Buffets, Breakfast &amp; Brunch, Food,...</td>\n",
       "      <td>4.0</td>\n",
       "      <td>0</td>\n",
       "      <td>2017-08-10</td>\n",
       "      <td>0</td>\n",
       "      <td>rwZE1BYgBGlYaHXgUINGKQ</td>\n",
       "      <td>5</td>\n",
       "      <td>I googled \"best restaurants in LV\" and this pl...</td>\n",
       "      <td>0</td>\n",
       "      <td>brLV2DkOc0umIKrHrIl8VQ</td>\n",
       "      <td>True</td>\n",
       "    </tr>\n",
       "    <tr>\n",
       "      <th>27</th>\n",
       "      <td>135944</td>\n",
       "      <td>RESDUcs7fIiihp38-d6_6g</td>\n",
       "      <td>Bacchanal Buffet</td>\n",
       "      <td>Sandwiches, Buffets, Breakfast &amp; Brunch, Food,...</td>\n",
       "      <td>4.0</td>\n",
       "      <td>0</td>\n",
       "      <td>2017-07-05</td>\n",
       "      <td>0</td>\n",
       "      <td>FaC9obe0wPdz6ZDjFYc9-g</td>\n",
       "      <td>2</td>\n",
       "      <td>This USED TO BE one of the best buffets in tow...</td>\n",
       "      <td>0</td>\n",
       "      <td>Wwa7RshRpvf5Ob2zeS6fng</td>\n",
       "      <td>False</td>\n",
       "    </tr>\n",
       "    <tr>\n",
       "      <th>28</th>\n",
       "      <td>135945</td>\n",
       "      <td>RESDUcs7fIiihp38-d6_6g</td>\n",
       "      <td>Bacchanal Buffet</td>\n",
       "      <td>Sandwiches, Buffets, Breakfast &amp; Brunch, Food,...</td>\n",
       "      <td>4.0</td>\n",
       "      <td>0</td>\n",
       "      <td>2017-04-05</td>\n",
       "      <td>1</td>\n",
       "      <td>hd9yisnpUyq_tiLaYU3v_A</td>\n",
       "      <td>1</td>\n",
       "      <td>Power is out and we had to wait for sometimes....</td>\n",
       "      <td>0</td>\n",
       "      <td>B8exC5ODKEHtN3T2EgS-SQ</td>\n",
       "      <td>False</td>\n",
       "    </tr>\n",
       "    <tr>\n",
       "      <th>29</th>\n",
       "      <td>135946</td>\n",
       "      <td>RESDUcs7fIiihp38-d6_6g</td>\n",
       "      <td>Bacchanal Buffet</td>\n",
       "      <td>Sandwiches, Buffets, Breakfast &amp; Brunch, Food,...</td>\n",
       "      <td>4.0</td>\n",
       "      <td>1</td>\n",
       "      <td>2017-06-27</td>\n",
       "      <td>0</td>\n",
       "      <td>pD6I_gonN85QSk4UXXS6YQ</td>\n",
       "      <td>4</td>\n",
       "      <td>I believe we paid about $60 for Saturday Brunc...</td>\n",
       "      <td>1</td>\n",
       "      <td>GCciFvCWQNvITECCPYhFfQ</td>\n",
       "      <td>False</td>\n",
       "    </tr>\n",
       "    <tr>\n",
       "      <th>...</th>\n",
       "      <td>...</td>\n",
       "      <td>...</td>\n",
       "      <td>...</td>\n",
       "      <td>...</td>\n",
       "      <td>...</td>\n",
       "      <td>...</td>\n",
       "      <td>...</td>\n",
       "      <td>...</td>\n",
       "      <td>...</td>\n",
       "      <td>...</td>\n",
       "      <td>...</td>\n",
       "      <td>...</td>\n",
       "      <td>...</td>\n",
       "      <td>...</td>\n",
       "    </tr>\n",
       "    <tr>\n",
       "      <th>2239</th>\n",
       "      <td>138156</td>\n",
       "      <td>RESDUcs7fIiihp38-d6_6g</td>\n",
       "      <td>Bacchanal Buffet</td>\n",
       "      <td>Sandwiches, Buffets, Breakfast &amp; Brunch, Food,...</td>\n",
       "      <td>4.0</td>\n",
       "      <td>0</td>\n",
       "      <td>2017-06-02</td>\n",
       "      <td>1</td>\n",
       "      <td>NWkw5vSuziQrbyW2mimPig</td>\n",
       "      <td>5</td>\n",
       "      <td>My daughter and son in law took me here for my...</td>\n",
       "      <td>0</td>\n",
       "      <td>vrCggzmfI2NO4jCXfWmJlA</td>\n",
       "      <td>True</td>\n",
       "    </tr>\n",
       "    <tr>\n",
       "      <th>2240</th>\n",
       "      <td>138157</td>\n",
       "      <td>RESDUcs7fIiihp38-d6_6g</td>\n",
       "      <td>Bacchanal Buffet</td>\n",
       "      <td>Sandwiches, Buffets, Breakfast &amp; Brunch, Food,...</td>\n",
       "      <td>4.0</td>\n",
       "      <td>0</td>\n",
       "      <td>2018-06-22</td>\n",
       "      <td>1</td>\n",
       "      <td>ol6v0vq6uQNzShIa_RmkdA</td>\n",
       "      <td>4</td>\n",
       "      <td>A few of my favorite foodie YouTubers have rav...</td>\n",
       "      <td>0</td>\n",
       "      <td>M9SGiMsyl654vl7dYgdRyg</td>\n",
       "      <td>False</td>\n",
       "    </tr>\n",
       "    <tr>\n",
       "      <th>2241</th>\n",
       "      <td>138158</td>\n",
       "      <td>RESDUcs7fIiihp38-d6_6g</td>\n",
       "      <td>Bacchanal Buffet</td>\n",
       "      <td>Sandwiches, Buffets, Breakfast &amp; Brunch, Food,...</td>\n",
       "      <td>4.0</td>\n",
       "      <td>0</td>\n",
       "      <td>2017-01-13</td>\n",
       "      <td>0</td>\n",
       "      <td>FbS7OQTOxRMIOwlUQoVWYQ</td>\n",
       "      <td>5</td>\n",
       "      <td>Went to this buffet last night for dinner, and...</td>\n",
       "      <td>1</td>\n",
       "      <td>I7G20qW4RuiI5eH4K93r9Q</td>\n",
       "      <td>True</td>\n",
       "    </tr>\n",
       "    <tr>\n",
       "      <th>2242</th>\n",
       "      <td>138159</td>\n",
       "      <td>RESDUcs7fIiihp38-d6_6g</td>\n",
       "      <td>Bacchanal Buffet</td>\n",
       "      <td>Sandwiches, Buffets, Breakfast &amp; Brunch, Food,...</td>\n",
       "      <td>4.0</td>\n",
       "      <td>0</td>\n",
       "      <td>2017-10-02</td>\n",
       "      <td>0</td>\n",
       "      <td>JjK14AikZ5MdBN9Sj52CHw</td>\n",
       "      <td>3</td>\n",
       "      <td>We stopped here about 3:45pm on a Wednesday. M...</td>\n",
       "      <td>1</td>\n",
       "      <td>l4Wb3YIgZQ66bSOLvIgCsw</td>\n",
       "      <td>False</td>\n",
       "    </tr>\n",
       "    <tr>\n",
       "      <th>2243</th>\n",
       "      <td>138160</td>\n",
       "      <td>RESDUcs7fIiihp38-d6_6g</td>\n",
       "      <td>Bacchanal Buffet</td>\n",
       "      <td>Sandwiches, Buffets, Breakfast &amp; Brunch, Food,...</td>\n",
       "      <td>4.0</td>\n",
       "      <td>0</td>\n",
       "      <td>2017-04-25</td>\n",
       "      <td>0</td>\n",
       "      <td>ENVPXfn0mPms0sw9u1xzrA</td>\n",
       "      <td>4</td>\n",
       "      <td>The food was amazing. Went here on a quick tri...</td>\n",
       "      <td>0</td>\n",
       "      <td>okmfkKuGXxq18nvmK6u16g</td>\n",
       "      <td>False</td>\n",
       "    </tr>\n",
       "    <tr>\n",
       "      <th>2244</th>\n",
       "      <td>138161</td>\n",
       "      <td>RESDUcs7fIiihp38-d6_6g</td>\n",
       "      <td>Bacchanal Buffet</td>\n",
       "      <td>Sandwiches, Buffets, Breakfast &amp; Brunch, Food,...</td>\n",
       "      <td>4.0</td>\n",
       "      <td>0</td>\n",
       "      <td>2017-10-28</td>\n",
       "      <td>0</td>\n",
       "      <td>kwrxrlmSCG9SyCH5uqK5KA</td>\n",
       "      <td>2</td>\n",
       "      <td>Quality and personnel managed poorly .\\nLots o...</td>\n",
       "      <td>0</td>\n",
       "      <td>BgTEmV6LRcbtb-TK9JI6vA</td>\n",
       "      <td>False</td>\n",
       "    </tr>\n",
       "    <tr>\n",
       "      <th>2245</th>\n",
       "      <td>138162</td>\n",
       "      <td>RESDUcs7fIiihp38-d6_6g</td>\n",
       "      <td>Bacchanal Buffet</td>\n",
       "      <td>Sandwiches, Buffets, Breakfast &amp; Brunch, Food,...</td>\n",
       "      <td>4.0</td>\n",
       "      <td>0</td>\n",
       "      <td>2018-03-28</td>\n",
       "      <td>0</td>\n",
       "      <td>iC06wi1-t1gJn-uxFpY06Q</td>\n",
       "      <td>3</td>\n",
       "      <td>The place look nice, service was good ( when u...</td>\n",
       "      <td>0</td>\n",
       "      <td>KiDb4E4_Lphs5ipNBTJ8Jw</td>\n",
       "      <td>False</td>\n",
       "    </tr>\n",
       "    <tr>\n",
       "      <th>2246</th>\n",
       "      <td>138163</td>\n",
       "      <td>RESDUcs7fIiihp38-d6_6g</td>\n",
       "      <td>Bacchanal Buffet</td>\n",
       "      <td>Sandwiches, Buffets, Breakfast &amp; Brunch, Food,...</td>\n",
       "      <td>4.0</td>\n",
       "      <td>0</td>\n",
       "      <td>2017-11-10</td>\n",
       "      <td>0</td>\n",
       "      <td>0fHd34DdHhAkulojnGgB_Q</td>\n",
       "      <td>3</td>\n",
       "      <td>It's ok the quality has gone down since they o...</td>\n",
       "      <td>0</td>\n",
       "      <td>fuMLnjEjt3_GM5rc0XJY2Q</td>\n",
       "      <td>False</td>\n",
       "    </tr>\n",
       "    <tr>\n",
       "      <th>2247</th>\n",
       "      <td>138164</td>\n",
       "      <td>RESDUcs7fIiihp38-d6_6g</td>\n",
       "      <td>Bacchanal Buffet</td>\n",
       "      <td>Sandwiches, Buffets, Breakfast &amp; Brunch, Food,...</td>\n",
       "      <td>4.0</td>\n",
       "      <td>0</td>\n",
       "      <td>2018-01-15</td>\n",
       "      <td>0</td>\n",
       "      <td>HRUkzXB3VO2NP_zoabKHKg</td>\n",
       "      <td>5</td>\n",
       "      <td>It was really good. The key is to get there at...</td>\n",
       "      <td>1</td>\n",
       "      <td>lsexbkjji_HnfuwyQemxAw</td>\n",
       "      <td>True</td>\n",
       "    </tr>\n",
       "    <tr>\n",
       "      <th>2248</th>\n",
       "      <td>138165</td>\n",
       "      <td>RESDUcs7fIiihp38-d6_6g</td>\n",
       "      <td>Bacchanal Buffet</td>\n",
       "      <td>Sandwiches, Buffets, Breakfast &amp; Brunch, Food,...</td>\n",
       "      <td>4.0</td>\n",
       "      <td>0</td>\n",
       "      <td>2017-05-07</td>\n",
       "      <td>0</td>\n",
       "      <td>L5c0evRZ0b3Pvatt1PoR6g</td>\n",
       "      <td>4</td>\n",
       "      <td>One of the best buffets I've been too!  Amazin...</td>\n",
       "      <td>0</td>\n",
       "      <td>DJhNKewgtH49pFBTDTMWDw</td>\n",
       "      <td>False</td>\n",
       "    </tr>\n",
       "    <tr>\n",
       "      <th>2249</th>\n",
       "      <td>138166</td>\n",
       "      <td>RESDUcs7fIiihp38-d6_6g</td>\n",
       "      <td>Bacchanal Buffet</td>\n",
       "      <td>Sandwiches, Buffets, Breakfast &amp; Brunch, Food,...</td>\n",
       "      <td>4.0</td>\n",
       "      <td>0</td>\n",
       "      <td>2017-05-22</td>\n",
       "      <td>0</td>\n",
       "      <td>s5wIrv-Be196SyvpbN950g</td>\n",
       "      <td>5</td>\n",
       "      <td>By far the best buffet I have ever been to and...</td>\n",
       "      <td>2</td>\n",
       "      <td>kF_0e6TCSYT2iNIW_k2s6g</td>\n",
       "      <td>True</td>\n",
       "    </tr>\n",
       "    <tr>\n",
       "      <th>2250</th>\n",
       "      <td>138167</td>\n",
       "      <td>RESDUcs7fIiihp38-d6_6g</td>\n",
       "      <td>Bacchanal Buffet</td>\n",
       "      <td>Sandwiches, Buffets, Breakfast &amp; Brunch, Food,...</td>\n",
       "      <td>4.0</td>\n",
       "      <td>0</td>\n",
       "      <td>2018-01-08</td>\n",
       "      <td>0</td>\n",
       "      <td>F8p2D138_Tt62i7N4GRJrQ</td>\n",
       "      <td>5</td>\n",
       "      <td>This was amazing. We got the Groupon which sav...</td>\n",
       "      <td>0</td>\n",
       "      <td>QeF5jw2XaZEXlvT-nhrhAg</td>\n",
       "      <td>True</td>\n",
       "    </tr>\n",
       "    <tr>\n",
       "      <th>2251</th>\n",
       "      <td>138168</td>\n",
       "      <td>RESDUcs7fIiihp38-d6_6g</td>\n",
       "      <td>Bacchanal Buffet</td>\n",
       "      <td>Sandwiches, Buffets, Breakfast &amp; Brunch, Food,...</td>\n",
       "      <td>4.0</td>\n",
       "      <td>0</td>\n",
       "      <td>2017-05-28</td>\n",
       "      <td>0</td>\n",
       "      <td>MzHTzPS2FrFcCHSqrttdJQ</td>\n",
       "      <td>1</td>\n",
       "      <td>The line wait is entirely too long. The staff ...</td>\n",
       "      <td>1</td>\n",
       "      <td>2VAgqn-OM0a6aP4ICf6_VQ</td>\n",
       "      <td>False</td>\n",
       "    </tr>\n",
       "    <tr>\n",
       "      <th>2252</th>\n",
       "      <td>138169</td>\n",
       "      <td>RESDUcs7fIiihp38-d6_6g</td>\n",
       "      <td>Bacchanal Buffet</td>\n",
       "      <td>Sandwiches, Buffets, Breakfast &amp; Brunch, Food,...</td>\n",
       "      <td>4.0</td>\n",
       "      <td>0</td>\n",
       "      <td>2017-03-31</td>\n",
       "      <td>1</td>\n",
       "      <td>00JqUnR8_bzciowjWHjOWA</td>\n",
       "      <td>2</td>\n",
       "      <td>I cannot understand for the life of me why the...</td>\n",
       "      <td>0</td>\n",
       "      <td>_xtAMzARgplBZy8YRzVECw</td>\n",
       "      <td>False</td>\n",
       "    </tr>\n",
       "    <tr>\n",
       "      <th>2253</th>\n",
       "      <td>138170</td>\n",
       "      <td>RESDUcs7fIiihp38-d6_6g</td>\n",
       "      <td>Bacchanal Buffet</td>\n",
       "      <td>Sandwiches, Buffets, Breakfast &amp; Brunch, Food,...</td>\n",
       "      <td>4.0</td>\n",
       "      <td>1</td>\n",
       "      <td>2017-05-24</td>\n",
       "      <td>0</td>\n",
       "      <td>n4R2DPwzFrlFwavjZw3f0Q</td>\n",
       "      <td>3</td>\n",
       "      <td>I've been here twice. Wait time's over an hour...</td>\n",
       "      <td>1</td>\n",
       "      <td>qUk-Qa1JYnuK4VmmEbSYsA</td>\n",
       "      <td>False</td>\n",
       "    </tr>\n",
       "    <tr>\n",
       "      <th>2254</th>\n",
       "      <td>138171</td>\n",
       "      <td>RESDUcs7fIiihp38-d6_6g</td>\n",
       "      <td>Bacchanal Buffet</td>\n",
       "      <td>Sandwiches, Buffets, Breakfast &amp; Brunch, Food,...</td>\n",
       "      <td>4.0</td>\n",
       "      <td>0</td>\n",
       "      <td>2017-04-03</td>\n",
       "      <td>0</td>\n",
       "      <td>KcgPedakbj3aLN_es21sNQ</td>\n",
       "      <td>3</td>\n",
       "      <td>I'd probably actually go 3.5 stars, but am cho...</td>\n",
       "      <td>0</td>\n",
       "      <td>hq43LbaQgUBwNRIDI5Uijw</td>\n",
       "      <td>False</td>\n",
       "    </tr>\n",
       "    <tr>\n",
       "      <th>2255</th>\n",
       "      <td>138172</td>\n",
       "      <td>RESDUcs7fIiihp38-d6_6g</td>\n",
       "      <td>Bacchanal Buffet</td>\n",
       "      <td>Sandwiches, Buffets, Breakfast &amp; Brunch, Food,...</td>\n",
       "      <td>4.0</td>\n",
       "      <td>2</td>\n",
       "      <td>2017-07-13</td>\n",
       "      <td>0</td>\n",
       "      <td>kdHWu6Ohaya6apEeyaCeSg</td>\n",
       "      <td>2</td>\n",
       "      <td>Mediocre but totally overcooked meat. The only...</td>\n",
       "      <td>2</td>\n",
       "      <td>8rDS2iYOjMHfZ16xX7ekCA</td>\n",
       "      <td>False</td>\n",
       "    </tr>\n",
       "    <tr>\n",
       "      <th>2256</th>\n",
       "      <td>138173</td>\n",
       "      <td>RESDUcs7fIiihp38-d6_6g</td>\n",
       "      <td>Bacchanal Buffet</td>\n",
       "      <td>Sandwiches, Buffets, Breakfast &amp; Brunch, Food,...</td>\n",
       "      <td>4.0</td>\n",
       "      <td>0</td>\n",
       "      <td>2018-05-06</td>\n",
       "      <td>0</td>\n",
       "      <td>z6xo8s1_AbTXQM45Hj0chQ</td>\n",
       "      <td>1</td>\n",
       "      <td>We've tried the Bacchanal Buffet and the food ...</td>\n",
       "      <td>2</td>\n",
       "      <td>hwIWle9HcFSBPmeCxHGs0g</td>\n",
       "      <td>False</td>\n",
       "    </tr>\n",
       "    <tr>\n",
       "      <th>2257</th>\n",
       "      <td>138174</td>\n",
       "      <td>RESDUcs7fIiihp38-d6_6g</td>\n",
       "      <td>Bacchanal Buffet</td>\n",
       "      <td>Sandwiches, Buffets, Breakfast &amp; Brunch, Food,...</td>\n",
       "      <td>4.0</td>\n",
       "      <td>0</td>\n",
       "      <td>2017-12-28</td>\n",
       "      <td>0</td>\n",
       "      <td>yNLpIroAN9Pf7NWip3zqEQ</td>\n",
       "      <td>2</td>\n",
       "      <td>Y'all such a disappointment for a luxury buffe...</td>\n",
       "      <td>0</td>\n",
       "      <td>gF8E2gC8JKXdF7tD8uYabw</td>\n",
       "      <td>False</td>\n",
       "    </tr>\n",
       "    <tr>\n",
       "      <th>2258</th>\n",
       "      <td>138175</td>\n",
       "      <td>RESDUcs7fIiihp38-d6_6g</td>\n",
       "      <td>Bacchanal Buffet</td>\n",
       "      <td>Sandwiches, Buffets, Breakfast &amp; Brunch, Food,...</td>\n",
       "      <td>4.0</td>\n",
       "      <td>0</td>\n",
       "      <td>2017-11-22</td>\n",
       "      <td>0</td>\n",
       "      <td>CS0fs-hsLe-ReADrDBaGYQ</td>\n",
       "      <td>5</td>\n",
       "      <td>Great buffet but the line sucks.    The food i...</td>\n",
       "      <td>0</td>\n",
       "      <td>oUCaxUBcruhxU4XhCF523w</td>\n",
       "      <td>True</td>\n",
       "    </tr>\n",
       "    <tr>\n",
       "      <th>2259</th>\n",
       "      <td>138176</td>\n",
       "      <td>RESDUcs7fIiihp38-d6_6g</td>\n",
       "      <td>Bacchanal Buffet</td>\n",
       "      <td>Sandwiches, Buffets, Breakfast &amp; Brunch, Food,...</td>\n",
       "      <td>4.0</td>\n",
       "      <td>1</td>\n",
       "      <td>2017-11-14</td>\n",
       "      <td>0</td>\n",
       "      <td>6M7aPyKr0UhJXGcLOQ__zQ</td>\n",
       "      <td>5</td>\n",
       "      <td>This is one of the best buffets in Vegas!  Mak...</td>\n",
       "      <td>0</td>\n",
       "      <td>3haQPlxXOeRkzIeQeFjGaQ</td>\n",
       "      <td>True</td>\n",
       "    </tr>\n",
       "    <tr>\n",
       "      <th>2260</th>\n",
       "      <td>138177</td>\n",
       "      <td>RESDUcs7fIiihp38-d6_6g</td>\n",
       "      <td>Bacchanal Buffet</td>\n",
       "      <td>Sandwiches, Buffets, Breakfast &amp; Brunch, Food,...</td>\n",
       "      <td>4.0</td>\n",
       "      <td>0</td>\n",
       "      <td>2018-02-06</td>\n",
       "      <td>0</td>\n",
       "      <td>PVri6s6OXBS26SjfAAzsrQ</td>\n",
       "      <td>5</td>\n",
       "      <td>I loveeeeeee Bacchanal Buffet! Even when I had...</td>\n",
       "      <td>0</td>\n",
       "      <td>FMMG10-FrTutjs00CSvgYg</td>\n",
       "      <td>True</td>\n",
       "    </tr>\n",
       "    <tr>\n",
       "      <th>2261</th>\n",
       "      <td>138178</td>\n",
       "      <td>RESDUcs7fIiihp38-d6_6g</td>\n",
       "      <td>Bacchanal Buffet</td>\n",
       "      <td>Sandwiches, Buffets, Breakfast &amp; Brunch, Food,...</td>\n",
       "      <td>4.0</td>\n",
       "      <td>0</td>\n",
       "      <td>2018-01-19</td>\n",
       "      <td>0</td>\n",
       "      <td>FEKjP5QGt5ZP0Ay4YZ6DhA</td>\n",
       "      <td>3</td>\n",
       "      <td>This buffet was pretty disappointing for me. W...</td>\n",
       "      <td>1</td>\n",
       "      <td>ZRFzuTwpYlrqNBK1rbjDAA</td>\n",
       "      <td>False</td>\n",
       "    </tr>\n",
       "    <tr>\n",
       "      <th>2262</th>\n",
       "      <td>138179</td>\n",
       "      <td>RESDUcs7fIiihp38-d6_6g</td>\n",
       "      <td>Bacchanal Buffet</td>\n",
       "      <td>Sandwiches, Buffets, Breakfast &amp; Brunch, Food,...</td>\n",
       "      <td>4.0</td>\n",
       "      <td>0</td>\n",
       "      <td>2017-03-08</td>\n",
       "      <td>0</td>\n",
       "      <td>56jjEV7mXXuD8KM4A4X4AQ</td>\n",
       "      <td>2</td>\n",
       "      <td>I had very high expectations. Went on a Monday...</td>\n",
       "      <td>0</td>\n",
       "      <td>hG2pEwKK6qZgC3xatACuqw</td>\n",
       "      <td>False</td>\n",
       "    </tr>\n",
       "    <tr>\n",
       "      <th>2263</th>\n",
       "      <td>138180</td>\n",
       "      <td>RESDUcs7fIiihp38-d6_6g</td>\n",
       "      <td>Bacchanal Buffet</td>\n",
       "      <td>Sandwiches, Buffets, Breakfast &amp; Brunch, Food,...</td>\n",
       "      <td>4.0</td>\n",
       "      <td>0</td>\n",
       "      <td>2018-04-15</td>\n",
       "      <td>0</td>\n",
       "      <td>4wPhdSSh1q0iEPxdvaNtVQ</td>\n",
       "      <td>1</td>\n",
       "      <td>I would give 2 or 3 stars just for the taste, ...</td>\n",
       "      <td>2</td>\n",
       "      <td>TSQQ4x91kMsEqFHgyUnWbw</td>\n",
       "      <td>False</td>\n",
       "    </tr>\n",
       "    <tr>\n",
       "      <th>2264</th>\n",
       "      <td>138181</td>\n",
       "      <td>RESDUcs7fIiihp38-d6_6g</td>\n",
       "      <td>Bacchanal Buffet</td>\n",
       "      <td>Sandwiches, Buffets, Breakfast &amp; Brunch, Food,...</td>\n",
       "      <td>4.0</td>\n",
       "      <td>0</td>\n",
       "      <td>2017-07-27</td>\n",
       "      <td>0</td>\n",
       "      <td>zcgkWtbyPTWHxfNgse9NXQ</td>\n",
       "      <td>4</td>\n",
       "      <td>update to previous review--the manager reached...</td>\n",
       "      <td>0</td>\n",
       "      <td>uYezJh0z1FcOK8BeTb-MNQ</td>\n",
       "      <td>False</td>\n",
       "    </tr>\n",
       "    <tr>\n",
       "      <th>2265</th>\n",
       "      <td>138182</td>\n",
       "      <td>RESDUcs7fIiihp38-d6_6g</td>\n",
       "      <td>Bacchanal Buffet</td>\n",
       "      <td>Sandwiches, Buffets, Breakfast &amp; Brunch, Food,...</td>\n",
       "      <td>4.0</td>\n",
       "      <td>0</td>\n",
       "      <td>2017-05-29</td>\n",
       "      <td>0</td>\n",
       "      <td>LOnYiEt4wpEXytTpuYvKLg</td>\n",
       "      <td>5</td>\n",
       "      <td>Honestly one of the best buffets I've ever gon...</td>\n",
       "      <td>1</td>\n",
       "      <td>J3ykuVkcYsttcksT_fIbpw</td>\n",
       "      <td>True</td>\n",
       "    </tr>\n",
       "    <tr>\n",
       "      <th>2266</th>\n",
       "      <td>138183</td>\n",
       "      <td>RESDUcs7fIiihp38-d6_6g</td>\n",
       "      <td>Bacchanal Buffet</td>\n",
       "      <td>Sandwiches, Buffets, Breakfast &amp; Brunch, Food,...</td>\n",
       "      <td>4.0</td>\n",
       "      <td>0</td>\n",
       "      <td>2017-07-21</td>\n",
       "      <td>0</td>\n",
       "      <td>ExQVpasAvLxJ71aqOrle9A</td>\n",
       "      <td>4</td>\n",
       "      <td>The seafood selection is amazing!! Steaming cr...</td>\n",
       "      <td>0</td>\n",
       "      <td>B82EQctgw789hsmegYCzRQ</td>\n",
       "      <td>False</td>\n",
       "    </tr>\n",
       "    <tr>\n",
       "      <th>2267</th>\n",
       "      <td>138184</td>\n",
       "      <td>RESDUcs7fIiihp38-d6_6g</td>\n",
       "      <td>Bacchanal Buffet</td>\n",
       "      <td>Sandwiches, Buffets, Breakfast &amp; Brunch, Food,...</td>\n",
       "      <td>4.0</td>\n",
       "      <td>0</td>\n",
       "      <td>2017-08-24</td>\n",
       "      <td>0</td>\n",
       "      <td>M0yK8wDRU_IkgKv2JMnz1w</td>\n",
       "      <td>1</td>\n",
       "      <td>Terrible hostess and management! They don't kn...</td>\n",
       "      <td>0</td>\n",
       "      <td>cJQE_lyQygHPadn4h0C8Jw</td>\n",
       "      <td>False</td>\n",
       "    </tr>\n",
       "    <tr>\n",
       "      <th>2268</th>\n",
       "      <td>138185</td>\n",
       "      <td>RESDUcs7fIiihp38-d6_6g</td>\n",
       "      <td>Bacchanal Buffet</td>\n",
       "      <td>Sandwiches, Buffets, Breakfast &amp; Brunch, Food,...</td>\n",
       "      <td>4.0</td>\n",
       "      <td>1</td>\n",
       "      <td>2017-07-04</td>\n",
       "      <td>0</td>\n",
       "      <td>w-9UGiO02sXEHOtr0Z6eGw</td>\n",
       "      <td>5</td>\n",
       "      <td>Still my favorite buffet in Vegas. It's on the...</td>\n",
       "      <td>0</td>\n",
       "      <td>8zLtEdRSuCHU-qmnFgwF0w</td>\n",
       "      <td>True</td>\n",
       "    </tr>\n",
       "  </tbody>\n",
       "</table>\n",
       "<p>2269 rows × 14 columns</p>\n",
       "</div>"
      ],
      "text/plain": [
       "       index             business_id              name  \\\n",
       "0     135917  RESDUcs7fIiihp38-d6_6g  Bacchanal Buffet   \n",
       "1     135918  RESDUcs7fIiihp38-d6_6g  Bacchanal Buffet   \n",
       "2     135919  RESDUcs7fIiihp38-d6_6g  Bacchanal Buffet   \n",
       "3     135920  RESDUcs7fIiihp38-d6_6g  Bacchanal Buffet   \n",
       "4     135921  RESDUcs7fIiihp38-d6_6g  Bacchanal Buffet   \n",
       "5     135922  RESDUcs7fIiihp38-d6_6g  Bacchanal Buffet   \n",
       "6     135923  RESDUcs7fIiihp38-d6_6g  Bacchanal Buffet   \n",
       "7     135924  RESDUcs7fIiihp38-d6_6g  Bacchanal Buffet   \n",
       "8     135925  RESDUcs7fIiihp38-d6_6g  Bacchanal Buffet   \n",
       "9     135926  RESDUcs7fIiihp38-d6_6g  Bacchanal Buffet   \n",
       "10    135927  RESDUcs7fIiihp38-d6_6g  Bacchanal Buffet   \n",
       "11    135928  RESDUcs7fIiihp38-d6_6g  Bacchanal Buffet   \n",
       "12    135929  RESDUcs7fIiihp38-d6_6g  Bacchanal Buffet   \n",
       "13    135930  RESDUcs7fIiihp38-d6_6g  Bacchanal Buffet   \n",
       "14    135931  RESDUcs7fIiihp38-d6_6g  Bacchanal Buffet   \n",
       "15    135932  RESDUcs7fIiihp38-d6_6g  Bacchanal Buffet   \n",
       "16    135933  RESDUcs7fIiihp38-d6_6g  Bacchanal Buffet   \n",
       "17    135934  RESDUcs7fIiihp38-d6_6g  Bacchanal Buffet   \n",
       "18    135935  RESDUcs7fIiihp38-d6_6g  Bacchanal Buffet   \n",
       "19    135936  RESDUcs7fIiihp38-d6_6g  Bacchanal Buffet   \n",
       "20    135937  RESDUcs7fIiihp38-d6_6g  Bacchanal Buffet   \n",
       "21    135938  RESDUcs7fIiihp38-d6_6g  Bacchanal Buffet   \n",
       "22    135939  RESDUcs7fIiihp38-d6_6g  Bacchanal Buffet   \n",
       "23    135940  RESDUcs7fIiihp38-d6_6g  Bacchanal Buffet   \n",
       "24    135941  RESDUcs7fIiihp38-d6_6g  Bacchanal Buffet   \n",
       "25    135942  RESDUcs7fIiihp38-d6_6g  Bacchanal Buffet   \n",
       "26    135943  RESDUcs7fIiihp38-d6_6g  Bacchanal Buffet   \n",
       "27    135944  RESDUcs7fIiihp38-d6_6g  Bacchanal Buffet   \n",
       "28    135945  RESDUcs7fIiihp38-d6_6g  Bacchanal Buffet   \n",
       "29    135946  RESDUcs7fIiihp38-d6_6g  Bacchanal Buffet   \n",
       "...      ...                     ...               ...   \n",
       "2239  138156  RESDUcs7fIiihp38-d6_6g  Bacchanal Buffet   \n",
       "2240  138157  RESDUcs7fIiihp38-d6_6g  Bacchanal Buffet   \n",
       "2241  138158  RESDUcs7fIiihp38-d6_6g  Bacchanal Buffet   \n",
       "2242  138159  RESDUcs7fIiihp38-d6_6g  Bacchanal Buffet   \n",
       "2243  138160  RESDUcs7fIiihp38-d6_6g  Bacchanal Buffet   \n",
       "2244  138161  RESDUcs7fIiihp38-d6_6g  Bacchanal Buffet   \n",
       "2245  138162  RESDUcs7fIiihp38-d6_6g  Bacchanal Buffet   \n",
       "2246  138163  RESDUcs7fIiihp38-d6_6g  Bacchanal Buffet   \n",
       "2247  138164  RESDUcs7fIiihp38-d6_6g  Bacchanal Buffet   \n",
       "2248  138165  RESDUcs7fIiihp38-d6_6g  Bacchanal Buffet   \n",
       "2249  138166  RESDUcs7fIiihp38-d6_6g  Bacchanal Buffet   \n",
       "2250  138167  RESDUcs7fIiihp38-d6_6g  Bacchanal Buffet   \n",
       "2251  138168  RESDUcs7fIiihp38-d6_6g  Bacchanal Buffet   \n",
       "2252  138169  RESDUcs7fIiihp38-d6_6g  Bacchanal Buffet   \n",
       "2253  138170  RESDUcs7fIiihp38-d6_6g  Bacchanal Buffet   \n",
       "2254  138171  RESDUcs7fIiihp38-d6_6g  Bacchanal Buffet   \n",
       "2255  138172  RESDUcs7fIiihp38-d6_6g  Bacchanal Buffet   \n",
       "2256  138173  RESDUcs7fIiihp38-d6_6g  Bacchanal Buffet   \n",
       "2257  138174  RESDUcs7fIiihp38-d6_6g  Bacchanal Buffet   \n",
       "2258  138175  RESDUcs7fIiihp38-d6_6g  Bacchanal Buffet   \n",
       "2259  138176  RESDUcs7fIiihp38-d6_6g  Bacchanal Buffet   \n",
       "2260  138177  RESDUcs7fIiihp38-d6_6g  Bacchanal Buffet   \n",
       "2261  138178  RESDUcs7fIiihp38-d6_6g  Bacchanal Buffet   \n",
       "2262  138179  RESDUcs7fIiihp38-d6_6g  Bacchanal Buffet   \n",
       "2263  138180  RESDUcs7fIiihp38-d6_6g  Bacchanal Buffet   \n",
       "2264  138181  RESDUcs7fIiihp38-d6_6g  Bacchanal Buffet   \n",
       "2265  138182  RESDUcs7fIiihp38-d6_6g  Bacchanal Buffet   \n",
       "2266  138183  RESDUcs7fIiihp38-d6_6g  Bacchanal Buffet   \n",
       "2267  138184  RESDUcs7fIiihp38-d6_6g  Bacchanal Buffet   \n",
       "2268  138185  RESDUcs7fIiihp38-d6_6g  Bacchanal Buffet   \n",
       "\n",
       "                                             categories  avg_stars  cool  \\\n",
       "0     Sandwiches, Buffets, Breakfast & Brunch, Food,...        4.0     0   \n",
       "1     Sandwiches, Buffets, Breakfast & Brunch, Food,...        4.0     0   \n",
       "2     Sandwiches, Buffets, Breakfast & Brunch, Food,...        4.0     0   \n",
       "3     Sandwiches, Buffets, Breakfast & Brunch, Food,...        4.0     0   \n",
       "4     Sandwiches, Buffets, Breakfast & Brunch, Food,...        4.0     0   \n",
       "5     Sandwiches, Buffets, Breakfast & Brunch, Food,...        4.0     1   \n",
       "6     Sandwiches, Buffets, Breakfast & Brunch, Food,...        4.0     0   \n",
       "7     Sandwiches, Buffets, Breakfast & Brunch, Food,...        4.0     0   \n",
       "8     Sandwiches, Buffets, Breakfast & Brunch, Food,...        4.0     0   \n",
       "9     Sandwiches, Buffets, Breakfast & Brunch, Food,...        4.0     0   \n",
       "10    Sandwiches, Buffets, Breakfast & Brunch, Food,...        4.0     0   \n",
       "11    Sandwiches, Buffets, Breakfast & Brunch, Food,...        4.0     0   \n",
       "12    Sandwiches, Buffets, Breakfast & Brunch, Food,...        4.0     0   \n",
       "13    Sandwiches, Buffets, Breakfast & Brunch, Food,...        4.0     0   \n",
       "14    Sandwiches, Buffets, Breakfast & Brunch, Food,...        4.0     0   \n",
       "15    Sandwiches, Buffets, Breakfast & Brunch, Food,...        4.0     0   \n",
       "16    Sandwiches, Buffets, Breakfast & Brunch, Food,...        4.0     0   \n",
       "17    Sandwiches, Buffets, Breakfast & Brunch, Food,...        4.0     0   \n",
       "18    Sandwiches, Buffets, Breakfast & Brunch, Food,...        4.0     0   \n",
       "19    Sandwiches, Buffets, Breakfast & Brunch, Food,...        4.0     0   \n",
       "20    Sandwiches, Buffets, Breakfast & Brunch, Food,...        4.0     0   \n",
       "21    Sandwiches, Buffets, Breakfast & Brunch, Food,...        4.0     0   \n",
       "22    Sandwiches, Buffets, Breakfast & Brunch, Food,...        4.0     0   \n",
       "23    Sandwiches, Buffets, Breakfast & Brunch, Food,...        4.0     0   \n",
       "24    Sandwiches, Buffets, Breakfast & Brunch, Food,...        4.0     0   \n",
       "25    Sandwiches, Buffets, Breakfast & Brunch, Food,...        4.0     0   \n",
       "26    Sandwiches, Buffets, Breakfast & Brunch, Food,...        4.0     0   \n",
       "27    Sandwiches, Buffets, Breakfast & Brunch, Food,...        4.0     0   \n",
       "28    Sandwiches, Buffets, Breakfast & Brunch, Food,...        4.0     0   \n",
       "29    Sandwiches, Buffets, Breakfast & Brunch, Food,...        4.0     1   \n",
       "...                                                 ...        ...   ...   \n",
       "2239  Sandwiches, Buffets, Breakfast & Brunch, Food,...        4.0     0   \n",
       "2240  Sandwiches, Buffets, Breakfast & Brunch, Food,...        4.0     0   \n",
       "2241  Sandwiches, Buffets, Breakfast & Brunch, Food,...        4.0     0   \n",
       "2242  Sandwiches, Buffets, Breakfast & Brunch, Food,...        4.0     0   \n",
       "2243  Sandwiches, Buffets, Breakfast & Brunch, Food,...        4.0     0   \n",
       "2244  Sandwiches, Buffets, Breakfast & Brunch, Food,...        4.0     0   \n",
       "2245  Sandwiches, Buffets, Breakfast & Brunch, Food,...        4.0     0   \n",
       "2246  Sandwiches, Buffets, Breakfast & Brunch, Food,...        4.0     0   \n",
       "2247  Sandwiches, Buffets, Breakfast & Brunch, Food,...        4.0     0   \n",
       "2248  Sandwiches, Buffets, Breakfast & Brunch, Food,...        4.0     0   \n",
       "2249  Sandwiches, Buffets, Breakfast & Brunch, Food,...        4.0     0   \n",
       "2250  Sandwiches, Buffets, Breakfast & Brunch, Food,...        4.0     0   \n",
       "2251  Sandwiches, Buffets, Breakfast & Brunch, Food,...        4.0     0   \n",
       "2252  Sandwiches, Buffets, Breakfast & Brunch, Food,...        4.0     0   \n",
       "2253  Sandwiches, Buffets, Breakfast & Brunch, Food,...        4.0     1   \n",
       "2254  Sandwiches, Buffets, Breakfast & Brunch, Food,...        4.0     0   \n",
       "2255  Sandwiches, Buffets, Breakfast & Brunch, Food,...        4.0     2   \n",
       "2256  Sandwiches, Buffets, Breakfast & Brunch, Food,...        4.0     0   \n",
       "2257  Sandwiches, Buffets, Breakfast & Brunch, Food,...        4.0     0   \n",
       "2258  Sandwiches, Buffets, Breakfast & Brunch, Food,...        4.0     0   \n",
       "2259  Sandwiches, Buffets, Breakfast & Brunch, Food,...        4.0     1   \n",
       "2260  Sandwiches, Buffets, Breakfast & Brunch, Food,...        4.0     0   \n",
       "2261  Sandwiches, Buffets, Breakfast & Brunch, Food,...        4.0     0   \n",
       "2262  Sandwiches, Buffets, Breakfast & Brunch, Food,...        4.0     0   \n",
       "2263  Sandwiches, Buffets, Breakfast & Brunch, Food,...        4.0     0   \n",
       "2264  Sandwiches, Buffets, Breakfast & Brunch, Food,...        4.0     0   \n",
       "2265  Sandwiches, Buffets, Breakfast & Brunch, Food,...        4.0     0   \n",
       "2266  Sandwiches, Buffets, Breakfast & Brunch, Food,...        4.0     0   \n",
       "2267  Sandwiches, Buffets, Breakfast & Brunch, Food,...        4.0     0   \n",
       "2268  Sandwiches, Buffets, Breakfast & Brunch, Food,...        4.0     1   \n",
       "\n",
       "            date  funny               review_id  stars  \\\n",
       "0     2017-09-09      0  mQfl6ci46mu0xaZrkRUhlA      5   \n",
       "1     2017-02-08      0  lMarDJDg4-e_0YoJOKJoWA      2   \n",
       "2     2017-12-22      0  30xmXTzJwHPcqt0uvSLQhQ      3   \n",
       "3     2017-09-22      0  SOUuNn4f1fHKxFHntYzonw      3   \n",
       "4     2017-06-18      0  nnmcNHGLa6TTZ4KP7ZrU7A      1   \n",
       "5     2017-02-28      0  NXOgf4JQNbskd2XYhPJB7A      5   \n",
       "6     2017-07-02      0  Xci8QJaDOB7OazJIP9U0Cw      5   \n",
       "7     2017-11-26      0  n6rHMUT-AWKkAro8Ho6-Fw      4   \n",
       "8     2017-04-06      0  vAohFUTT0d8GkMPyItcT5Q      5   \n",
       "9     2017-05-21      0  bwi8o0poN-38SrLla5cPCg      1   \n",
       "10    2017-10-25      0  a6eHidYE-UuIEjHLv6HWEQ      4   \n",
       "11    2017-04-30      0  ONiPKlYDi4TSrc6cSTF_Rw      1   \n",
       "12    2017-12-25      0  EgzMuY3EFSlHXHt4CsrVwQ      1   \n",
       "13    2017-08-08      0  4OI80M9-YRSFwBvjDRwDTA      4   \n",
       "14    2018-01-05      0  NgMaDXWgIY9vVdzFfPWjDg      1   \n",
       "15    2017-01-18      0  aJQujnov4kkkqEN_sTkVbA      2   \n",
       "16    2017-06-17      0  C5qArpcpZTgYV3rh9zAYjA      2   \n",
       "17    2017-10-24      0  jQchdj7yCdaJuSm7YdgIvQ      5   \n",
       "18    2017-08-08      0  h0Tq6OITumeTDMP8p_sEmg      5   \n",
       "19    2017-01-03      0  fQwJulRkiN3mGnjfF9Vhlw      3   \n",
       "20    2017-04-24      0  R8LJHarVssSyHkJXK9H7Jg      1   \n",
       "21    2017-07-01      0  U0qiv80DANbYJTf9AvzhLA      4   \n",
       "22    2017-12-25      0  LzfWrvqW3toNSqAyVC2hSQ      1   \n",
       "23    2017-01-09      0  uphhbB1JUP0pDwByKSwc_A      1   \n",
       "24    2017-02-02      0  VIyc4l133_AJ9etqxdatMQ      3   \n",
       "25    2017-08-14      0  gCEGbF9EEe5H_wjK1aLvjQ      3   \n",
       "26    2017-08-10      0  rwZE1BYgBGlYaHXgUINGKQ      5   \n",
       "27    2017-07-05      0  FaC9obe0wPdz6ZDjFYc9-g      2   \n",
       "28    2017-04-05      1  hd9yisnpUyq_tiLaYU3v_A      1   \n",
       "29    2017-06-27      0  pD6I_gonN85QSk4UXXS6YQ      4   \n",
       "...          ...    ...                     ...    ...   \n",
       "2239  2017-06-02      1  NWkw5vSuziQrbyW2mimPig      5   \n",
       "2240  2018-06-22      1  ol6v0vq6uQNzShIa_RmkdA      4   \n",
       "2241  2017-01-13      0  FbS7OQTOxRMIOwlUQoVWYQ      5   \n",
       "2242  2017-10-02      0  JjK14AikZ5MdBN9Sj52CHw      3   \n",
       "2243  2017-04-25      0  ENVPXfn0mPms0sw9u1xzrA      4   \n",
       "2244  2017-10-28      0  kwrxrlmSCG9SyCH5uqK5KA      2   \n",
       "2245  2018-03-28      0  iC06wi1-t1gJn-uxFpY06Q      3   \n",
       "2246  2017-11-10      0  0fHd34DdHhAkulojnGgB_Q      3   \n",
       "2247  2018-01-15      0  HRUkzXB3VO2NP_zoabKHKg      5   \n",
       "2248  2017-05-07      0  L5c0evRZ0b3Pvatt1PoR6g      4   \n",
       "2249  2017-05-22      0  s5wIrv-Be196SyvpbN950g      5   \n",
       "2250  2018-01-08      0  F8p2D138_Tt62i7N4GRJrQ      5   \n",
       "2251  2017-05-28      0  MzHTzPS2FrFcCHSqrttdJQ      1   \n",
       "2252  2017-03-31      1  00JqUnR8_bzciowjWHjOWA      2   \n",
       "2253  2017-05-24      0  n4R2DPwzFrlFwavjZw3f0Q      3   \n",
       "2254  2017-04-03      0  KcgPedakbj3aLN_es21sNQ      3   \n",
       "2255  2017-07-13      0  kdHWu6Ohaya6apEeyaCeSg      2   \n",
       "2256  2018-05-06      0  z6xo8s1_AbTXQM45Hj0chQ      1   \n",
       "2257  2017-12-28      0  yNLpIroAN9Pf7NWip3zqEQ      2   \n",
       "2258  2017-11-22      0  CS0fs-hsLe-ReADrDBaGYQ      5   \n",
       "2259  2017-11-14      0  6M7aPyKr0UhJXGcLOQ__zQ      5   \n",
       "2260  2018-02-06      0  PVri6s6OXBS26SjfAAzsrQ      5   \n",
       "2261  2018-01-19      0  FEKjP5QGt5ZP0Ay4YZ6DhA      3   \n",
       "2262  2017-03-08      0  56jjEV7mXXuD8KM4A4X4AQ      2   \n",
       "2263  2018-04-15      0  4wPhdSSh1q0iEPxdvaNtVQ      1   \n",
       "2264  2017-07-27      0  zcgkWtbyPTWHxfNgse9NXQ      4   \n",
       "2265  2017-05-29      0  LOnYiEt4wpEXytTpuYvKLg      5   \n",
       "2266  2017-07-21      0  ExQVpasAvLxJ71aqOrle9A      4   \n",
       "2267  2017-08-24      0  M0yK8wDRU_IkgKv2JMnz1w      1   \n",
       "2268  2017-07-04      0  w-9UGiO02sXEHOtr0Z6eGw      5   \n",
       "\n",
       "                                                   text  useful  \\\n",
       "0     This buffet is amazing.  Yes, it is expensive,...       0   \n",
       "1     This place....lol our server was nice.  But fo...       0   \n",
       "2     One star knocked off for the cold air conditio...       0   \n",
       "3     Was torn between 2 and 3.  Caught the last of ...       0   \n",
       "4     Food is subpar. There's a line to get to pay, ...       0   \n",
       "5     This buffet was amazing! It was a bit pricey, ...       1   \n",
       "6     I'm staying at Caesar's Palace for 4th of July...       0   \n",
       "7     Sunday brunch at Caesar's is pricey. The food ...       2   \n",
       "8     Best buffet in Vegas!  By far this buffet in i...       0   \n",
       "9     Below average, most items not served hot. Too ...       0   \n",
       "10    I really liked all the options they have here....       0   \n",
       "11    The food is not so uniformly bad that it warra...       0   \n",
       "12    This review is for customer service and not fo...       0   \n",
       "13    They have a vast amount of offerings and are s...       0   \n",
       "14    This review is only for the Christmas Feast. T...       2   \n",
       "15    Brunch is not worth the price. There's a varie...       0   \n",
       "16    When it first opened, this place was beyond am...       1   \n",
       "17    Best buffet I've ever been to. The quality of ...       0   \n",
       "18    Amazing food selection and our server, Carlos ...       0   \n",
       "19    I was so excited to try this buffet, as I was ...       0   \n",
       "20    The food is excellent here but the service is ...       0   \n",
       "21    Came in on Friday and was very exited,because ...       0   \n",
       "22    The service is terrible here. We were told tha...       0   \n",
       "23    This place is not worth waiting for a couple h...       1   \n",
       "24    Food was good not great, for the price alcohol...       0   \n",
       "25    A lot of waiting and waiting. The food was oka...       0   \n",
       "26    I googled \"best restaurants in LV\" and this pl...       0   \n",
       "27    This USED TO BE one of the best buffets in tow...       0   \n",
       "28    Power is out and we had to wait for sometimes....       0   \n",
       "29    I believe we paid about $60 for Saturday Brunc...       1   \n",
       "...                                                 ...     ...   \n",
       "2239  My daughter and son in law took me here for my...       0   \n",
       "2240  A few of my favorite foodie YouTubers have rav...       0   \n",
       "2241  Went to this buffet last night for dinner, and...       1   \n",
       "2242  We stopped here about 3:45pm on a Wednesday. M...       1   \n",
       "2243  The food was amazing. Went here on a quick tri...       0   \n",
       "2244  Quality and personnel managed poorly .\\nLots o...       0   \n",
       "2245  The place look nice, service was good ( when u...       0   \n",
       "2246  It's ok the quality has gone down since they o...       0   \n",
       "2247  It was really good. The key is to get there at...       1   \n",
       "2248  One of the best buffets I've been too!  Amazin...       0   \n",
       "2249  By far the best buffet I have ever been to and...       2   \n",
       "2250  This was amazing. We got the Groupon which sav...       0   \n",
       "2251  The line wait is entirely too long. The staff ...       1   \n",
       "2252  I cannot understand for the life of me why the...       0   \n",
       "2253  I've been here twice. Wait time's over an hour...       1   \n",
       "2254  I'd probably actually go 3.5 stars, but am cho...       0   \n",
       "2255  Mediocre but totally overcooked meat. The only...       2   \n",
       "2256  We've tried the Bacchanal Buffet and the food ...       2   \n",
       "2257  Y'all such a disappointment for a luxury buffe...       0   \n",
       "2258  Great buffet but the line sucks.    The food i...       0   \n",
       "2259  This is one of the best buffets in Vegas!  Mak...       0   \n",
       "2260  I loveeeeeee Bacchanal Buffet! Even when I had...       0   \n",
       "2261  This buffet was pretty disappointing for me. W...       1   \n",
       "2262  I had very high expectations. Went on a Monday...       0   \n",
       "2263  I would give 2 or 3 stars just for the taste, ...       2   \n",
       "2264  update to previous review--the manager reached...       0   \n",
       "2265  Honestly one of the best buffets I've ever gon...       1   \n",
       "2266  The seafood selection is amazing!! Steaming cr...       0   \n",
       "2267  Terrible hostess and management! They don't kn...       0   \n",
       "2268  Still my favorite buffet in Vegas. It's on the...       0   \n",
       "\n",
       "                     user_id  favorable  \n",
       "0     f638AHA_GoHbyDB7VFMz7A       True  \n",
       "1     A21zMqdN76ueLZFpmbue0Q      False  \n",
       "2     uNHEnP28MMmVy96ZSJKaMA      False  \n",
       "3     WvVqnHU_eVBUfL-CI9efdw      False  \n",
       "4     KIbfAG_JrTEPt6aQXcnQJg      False  \n",
       "5     wHeH7PwKHubMjmx9SroN4w       True  \n",
       "6     J90_7u_8vPYa03GMohNxAA       True  \n",
       "7     sfpgA58pdGKebocTe4N_-w      False  \n",
       "8     Hc0v8M1RP6sUuFQ2_zLP6Q       True  \n",
       "9     sY3dmQqrXChk_Xu8Oq3bNw      False  \n",
       "10    6y6DP6oaKsrjWJzZgBPsrw      False  \n",
       "11    zNIY5gxR2Co3zxwzhNUqdw      False  \n",
       "12    W-Qv_mWXqXQRO_tHEA5IdA      False  \n",
       "13    7WCWbSWAOxaAu2DoK76D1g      False  \n",
       "14    9RRbE-vBxAEVUEUk7rYBvg      False  \n",
       "15    NehrtwXQHdMG60dNtiirsQ      False  \n",
       "16    vrYY6ByqCS-2We-raSqjXQ      False  \n",
       "17    Aakk0sc4oG66AcodpbppJg       True  \n",
       "18    PoriwPcu7mPdeUgyXukLAQ       True  \n",
       "19    Roo5xp66Ky7Su7I8cy03ng      False  \n",
       "20    eKhIZuHdxKEmFkIZ-esCSg      False  \n",
       "21    xAov4bfHFiAxHafYKL0o9A      False  \n",
       "22    MfB7V8uw5hi4rWg4XhA2Cw      False  \n",
       "23    SYtvNKnB5nvDFhz4S9HvaA      False  \n",
       "24    p-z4NhgXvD0YIOJMGaKF5A      False  \n",
       "25    niokOwzxCXylEBb9DGa4IQ      False  \n",
       "26    brLV2DkOc0umIKrHrIl8VQ       True  \n",
       "27    Wwa7RshRpvf5Ob2zeS6fng      False  \n",
       "28    B8exC5ODKEHtN3T2EgS-SQ      False  \n",
       "29    GCciFvCWQNvITECCPYhFfQ      False  \n",
       "...                      ...        ...  \n",
       "2239  vrCggzmfI2NO4jCXfWmJlA       True  \n",
       "2240  M9SGiMsyl654vl7dYgdRyg      False  \n",
       "2241  I7G20qW4RuiI5eH4K93r9Q       True  \n",
       "2242  l4Wb3YIgZQ66bSOLvIgCsw      False  \n",
       "2243  okmfkKuGXxq18nvmK6u16g      False  \n",
       "2244  BgTEmV6LRcbtb-TK9JI6vA      False  \n",
       "2245  KiDb4E4_Lphs5ipNBTJ8Jw      False  \n",
       "2246  fuMLnjEjt3_GM5rc0XJY2Q      False  \n",
       "2247  lsexbkjji_HnfuwyQemxAw       True  \n",
       "2248  DJhNKewgtH49pFBTDTMWDw      False  \n",
       "2249  kF_0e6TCSYT2iNIW_k2s6g       True  \n",
       "2250  QeF5jw2XaZEXlvT-nhrhAg       True  \n",
       "2251  2VAgqn-OM0a6aP4ICf6_VQ      False  \n",
       "2252  _xtAMzARgplBZy8YRzVECw      False  \n",
       "2253  qUk-Qa1JYnuK4VmmEbSYsA      False  \n",
       "2254  hq43LbaQgUBwNRIDI5Uijw      False  \n",
       "2255  8rDS2iYOjMHfZ16xX7ekCA      False  \n",
       "2256  hwIWle9HcFSBPmeCxHGs0g      False  \n",
       "2257  gF8E2gC8JKXdF7tD8uYabw      False  \n",
       "2258  oUCaxUBcruhxU4XhCF523w       True  \n",
       "2259  3haQPlxXOeRkzIeQeFjGaQ       True  \n",
       "2260  FMMG10-FrTutjs00CSvgYg       True  \n",
       "2261  ZRFzuTwpYlrqNBK1rbjDAA      False  \n",
       "2262  hG2pEwKK6qZgC3xatACuqw      False  \n",
       "2263  TSQQ4x91kMsEqFHgyUnWbw      False  \n",
       "2264  uYezJh0z1FcOK8BeTb-MNQ      False  \n",
       "2265  J3ykuVkcYsttcksT_fIbpw       True  \n",
       "2266  B82EQctgw789hsmegYCzRQ      False  \n",
       "2267  cJQE_lyQygHPadn4h0C8Jw      False  \n",
       "2268  8zLtEdRSuCHU-qmnFgwF0w       True  \n",
       "\n",
       "[2269 rows x 14 columns]"
      ]
     },
     "execution_count": 43,
     "metadata": {},
     "output_type": "execute_result"
    }
   ],
   "source": [
    "# Load business dataset \n",
    "# Take a look at the most reviewed restaurant's profile \n",
    "df_top_restaurant = df[df['business_id'] == most_reviewed_restaurant].copy().reset_index()\n",
    "df_top_restaurant"
   ]
  },
  {
   "cell_type": "markdown",
   "metadata": {},
   "source": [
    "### Vectorize the text feature"
   ]
  },
  {
   "cell_type": "code",
   "execution_count": 44,
   "metadata": {},
   "outputs": [],
   "source": [
    "# Take the values of the column that contains review text data, save to a variable named \"documents_top_restaurant\"\n",
    "documents_top_restaurant = df_top_restaurant['text'].values"
   ]
  },
  {
   "cell_type": "code",
   "execution_count": 45,
   "metadata": {},
   "outputs": [
    {
     "data": {
      "text/plain": [
       "(dtype('O'), (2269,))"
      ]
     },
     "execution_count": 45,
     "metadata": {},
     "output_type": "execute_result"
    }
   ],
   "source": [
    "documents_top_restaurant.dtype, documents_top_restaurant.shape"
   ]
  },
  {
   "cell_type": "markdown",
   "metadata": {},
   "source": [
    "### Define your target variable (for later classification use)"
   ]
  },
  {
   "cell_type": "markdown",
   "metadata": {},
   "source": [
    "#### Again, we look at perfect (5 stars) and imperfect (1-4 stars) rating"
   ]
  },
  {
   "cell_type": "code",
   "execution_count": 46,
   "metadata": {},
   "outputs": [],
   "source": [
    "df_top_restaurant['favorable'] = (df_top_restaurant['stars'] > 4)"
   ]
  },
  {
   "cell_type": "code",
   "execution_count": 47,
   "metadata": {},
   "outputs": [
    {
     "data": {
      "text/plain": [
       "array([1, 0, 0, ..., 0, 0, 1])"
      ]
     },
     "execution_count": 47,
     "metadata": {},
     "output_type": "execute_result"
    }
   ],
   "source": [
    "target_top_restaurant = df_top_restaurant['favorable'].values.astype(int)\n",
    "target_top_restaurant"
   ]
  },
  {
   "cell_type": "markdown",
   "metadata": {},
   "source": [
    "#### Check the statistic of the target variable"
   ]
  },
  {
   "cell_type": "code",
   "execution_count": 48,
   "metadata": {},
   "outputs": [
    {
     "data": {
      "text/plain": [
       "0.3869546055531071"
      ]
     },
     "execution_count": 48,
     "metadata": {},
     "output_type": "execute_result"
    }
   ],
   "source": [
    "target_top_restaurant.mean()"
   ]
  },
  {
   "cell_type": "code",
   "execution_count": 50,
   "metadata": {},
   "outputs": [
    {
     "data": {
      "text/plain": [
       "((2269,), (2269,))"
      ]
     },
     "execution_count": 50,
     "metadata": {},
     "output_type": "execute_result"
    }
   ],
   "source": [
    "documents_top_restaurant.shape, target_top_restaurant.shape"
   ]
  },
  {
   "cell_type": "markdown",
   "metadata": {},
   "source": [
    "### Create training dataset and test dataset"
   ]
  },
  {
   "cell_type": "code",
   "execution_count": 51,
   "metadata": {},
   "outputs": [],
   "source": [
    "from sklearn.cross_validation import train_test_split"
   ]
  },
  {
   "cell_type": "code",
   "execution_count": 52,
   "metadata": {},
   "outputs": [],
   "source": [
    "# documents_top_restaurant is X, target_top_restaurant is y\n",
    "# Now split the data to training set and test set\n",
    "X_train, X_test, y_train, Y_test = train_test_split(\n",
    "    documents_top_restaurant, target_top_restaurant, test_size = 0.2, random_state = 3)"
   ]
  },
  {
   "cell_type": "markdown",
   "metadata": {},
   "source": [
    "### Get NLP representation of the documents"
   ]
  },
  {
   "cell_type": "code",
   "execution_count": 53,
   "metadata": {},
   "outputs": [],
   "source": [
    "from sklearn.feature_extraction.text import TfidfVectorizer"
   ]
  },
  {
   "cell_type": "code",
   "execution_count": 56,
   "metadata": {},
   "outputs": [],
   "source": [
    "# Create TfidfVectorizer, and name it vectorizer\n",
    "vectorizer = TfidfVectorizer(stop_words = 'english', max_features = 1000)"
   ]
  },
  {
   "cell_type": "code",
   "execution_count": 57,
   "metadata": {},
   "outputs": [],
   "source": [
    "# Train the model with training data\n",
    "vectors_train = vectorizer.fit_transform(X_train).toarray()"
   ]
  },
  {
   "cell_type": "code",
   "execution_count": 58,
   "metadata": {},
   "outputs": [],
   "source": [
    "# Get the vocab of tfidf\n",
    "words = vectorizer.get_feature_names()"
   ]
  },
  {
   "cell_type": "code",
   "execution_count": 61,
   "metadata": {},
   "outputs": [
    {
     "data": {
      "text/plain": [
       "(1815, 1000)"
      ]
     },
     "execution_count": 61,
     "metadata": {},
     "output_type": "execute_result"
    }
   ],
   "source": [
    "vectors_train.shape"
   ]
  },
  {
   "cell_type": "code",
   "execution_count": 62,
   "metadata": {},
   "outputs": [],
   "source": [
    "# Use the trained model to transform the test data\n",
    "vectors_test = vectorizer.transform(X_test).toarray()"
   ]
  },
  {
   "cell_type": "code",
   "execution_count": 63,
   "metadata": {},
   "outputs": [],
   "source": [
    "# Use the trained model to transform all the data\n",
    "vectors_documents_top_restaurant = vectorizer.transform(documents_top_restaurant).toarray()"
   ]
  },
  {
   "cell_type": "markdown",
   "metadata": {},
   "source": [
    "### Cluster reviews with KMeans"
   ]
  },
  {
   "cell_type": "markdown",
   "metadata": {},
   "source": [
    "#### Fit k-means clustering on the training vectors and make predictions on all data"
   ]
  },
  {
   "cell_type": "code",
   "execution_count": 65,
   "metadata": {},
   "outputs": [
    {
     "data": {
      "text/plain": [
       "KMeans(algorithm='auto', copy_x=True, init='k-means++', max_iter=300,\n",
       "    n_clusters=5, n_init=10, n_jobs=1, precompute_distances='auto',\n",
       "    random_state=None, tol=0.0001, verbose=0)"
      ]
     },
     "execution_count": 65,
     "metadata": {},
     "output_type": "execute_result"
    }
   ],
   "source": [
    "from sklearn.cluster import KMeans\n",
    "\n",
    "kmeans = KMeans(n_clusters = 5)\n",
    "kmeans.fit(vectors_train)"
   ]
  },
  {
   "cell_type": "markdown",
   "metadata": {},
   "source": [
    "#### Make predictions on all your data"
   ]
  },
  {
   "cell_type": "code",
   "execution_count": 66,
   "metadata": {},
   "outputs": [],
   "source": [
    "assigned_cluster = kmeans.predict(vectors_documents_top_restaurant)"
   ]
  },
  {
   "cell_type": "markdown",
   "metadata": {},
   "source": [
    "#### Inspect the centroids"
   ]
  },
  {
   "cell_type": "code",
   "execution_count": 67,
   "metadata": {},
   "outputs": [
    {
     "name": "stdout",
     "output_type": "stream",
     "text": [
      "Cluster centers:\n",
      "(5, 1000)\n"
     ]
    }
   ],
   "source": [
    "print(\"Cluster centers:\")\n",
    "print(kmeans.cluster_centers_.shape)"
   ]
  },
  {
   "cell_type": "markdown",
   "metadata": {},
   "source": [
    "#### Find the top 10 features for each cluster."
   ]
  },
  {
   "cell_type": "code",
   "execution_count": 68,
   "metadata": {},
   "outputs": [],
   "source": [
    "n_feat = 10\n",
    "top_centroids = kmeans.cluster_centers_.argsort()[:,-1:-n_feat:-1]"
   ]
  },
  {
   "cell_type": "markdown",
   "metadata": {},
   "source": [
    "#### Print out the rating and review of a random sample of the reviews assigned to each cluster to get a sense of the cluster."
   ]
  },
  {
   "cell_type": "code",
   "execution_count": 69,
   "metadata": {},
   "outputs": [
    {
     "name": "stdout",
     "output_type": "stream",
     "text": [
      "top features for each cluster:\n",
      "0: wait,line,time,food,long,buffet,hour,seated,worth\n",
      "1: food,good,buffet,great,service,place,worth,just,price\n",
      "2: crab,legs,buffet,good,food,king,just,worth,oysters\n",
      "3: best,buffet,vegas,food,buffets,quality,ve,great,las\n",
      "4: buffet,seafood,food,station,good,dessert,section,asian,vegas\n"
     ]
    }
   ],
   "source": [
    "print (\"top features for each cluster:\")\n",
    "for num, centroid in enumerate(top_centroids):\n",
    "    print(\"%d: %s\" % (num, \",\".join(words[i] for i in centroid)))"
   ]
  },
  {
   "cell_type": "markdown",
   "metadata": {},
   "source": [
    "## 3. Use PCA to reduce dimensionality"
   ]
  },
  {
   "cell_type": "markdown",
   "metadata": {},
   "source": [
    "### Stardardize features\n",
    "Your X_train and X_test"
   ]
  },
  {
   "cell_type": "code",
   "execution_count": null,
   "metadata": {
    "collapsed": true
   },
   "outputs": [],
   "source": [
    "from sklearn.preprocessing import StandardScaler\n",
    "\n",
    "# To be implemented\n",
    "pass\n"
   ]
  },
  {
   "cell_type": "markdown",
   "metadata": {},
   "source": [
    "### Use PCA to transform data (train and test) and get princial components"
   ]
  },
  {
   "cell_type": "code",
   "execution_count": null,
   "metadata": {
    "collapsed": true
   },
   "outputs": [],
   "source": [
    "from sklearn.decomposition import PCA\n",
    "\n",
    "# Let's pick a n_components\n",
    "n_components = 50\n",
    "\n",
    "# To be implemented\n",
    "pass\n"
   ]
  },
  {
   "cell_type": "markdown",
   "metadata": {},
   "source": [
    "### See how much (and how much percentage of) variance the principal components explain"
   ]
  },
  {
   "cell_type": "code",
   "execution_count": null,
   "metadata": {
    "collapsed": true
   },
   "outputs": [],
   "source": [
    "# To be implemented\n",
    "pass"
   ]
  },
  {
   "cell_type": "code",
   "execution_count": null,
   "metadata": {
    "collapsed": true
   },
   "outputs": [],
   "source": [
    "# To be implemented\n",
    "pass"
   ]
  },
  {
   "cell_type": "markdown",
   "metadata": {},
   "source": [
    "### Viz: plot proportion of variance explained with top principal components\n",
    "\n",
    "For clear display, you may start with plotting <=20 principal components"
   ]
  },
  {
   "cell_type": "code",
   "execution_count": null,
   "metadata": {
    "collapsed": true
   },
   "outputs": [],
   "source": [
    "# To be implemented\n",
    "pass"
   ]
  },
  {
   "cell_type": "markdown",
   "metadata": {},
   "source": [
    "## Classifying positive/negative review with PCA preprocessing"
   ]
  },
  {
   "cell_type": "markdown",
   "metadata": {},
   "source": [
    "### Logistic Regression Classifier\n",
    "#### Use standardized tf-idf vectors as features"
   ]
  },
  {
   "cell_type": "code",
   "execution_count": null,
   "metadata": {
    "collapsed": true
   },
   "outputs": [],
   "source": [
    "# Build a Logistic Regression Classifier, train with standardized tf-idf vectors\n",
    "\n",
    "from sklearn.linear_model import LogisticRegression\n",
    "\n",
    "# To be implemented\n",
    "pass"
   ]
  },
  {
   "cell_type": "code",
   "execution_count": null,
   "metadata": {
    "collapsed": true
   },
   "outputs": [],
   "source": [
    "# Get score for training set\n",
    "pass"
   ]
  },
  {
   "cell_type": "code",
   "execution_count": null,
   "metadata": {
    "collapsed": true,
    "scrolled": true
   },
   "outputs": [],
   "source": [
    "# Get score for test set\n",
    "pass"
   ]
  },
  {
   "cell_type": "markdown",
   "metadata": {},
   "source": [
    "#### Use (Stardardized + PCA) tf-idf vectors as features"
   ]
  },
  {
   "cell_type": "code",
   "execution_count": null,
   "metadata": {
    "collapsed": true
   },
   "outputs": [],
   "source": [
    "# Build a Logistic Regression Classifier, train with PCA tranformed X\n",
    "\n",
    "from sklearn.linear_model import LogisticRegression\n",
    "\n",
    "# To be implemented\n",
    "pass"
   ]
  },
  {
   "cell_type": "code",
   "execution_count": null,
   "metadata": {
    "collapsed": true
   },
   "outputs": [],
   "source": [
    "# Get score for training set\n",
    "pass"
   ]
  },
  {
   "cell_type": "code",
   "execution_count": null,
   "metadata": {
    "collapsed": true
   },
   "outputs": [],
   "source": [
    "# Get score for test set, REMEMBER to use PCA-transformed X!\n",
    "pass"
   ]
  },
  {
   "cell_type": "markdown",
   "metadata": {},
   "source": [
    "#### Q: What do you see from the training score and the test score? How do you compare the results from PCA and non-PCA preprocessing?"
   ]
  },
  {
   "cell_type": "markdown",
   "metadata": {},
   "source": [
    "A: (insert your comments here)"
   ]
  },
  {
   "cell_type": "markdown",
   "metadata": {},
   "source": [
    "#### You can plot the coefficients against principal components\n"
   ]
  },
  {
   "cell_type": "code",
   "execution_count": null,
   "metadata": {
    "collapsed": true
   },
   "outputs": [],
   "source": [
    "# To be implemented\n",
    "pass"
   ]
  },
  {
   "cell_type": "markdown",
   "metadata": {},
   "source": [
    "### Random Forest Classifier\n",
    "#### Use standardized tf-idf vectors as features"
   ]
  },
  {
   "cell_type": "code",
   "execution_count": null,
   "metadata": {
    "collapsed": true
   },
   "outputs": [],
   "source": [
    "# Build a Random Forest Classifier\n",
    "\n",
    "from sklearn.ensemble import RandomForestClassifier\n",
    "\n",
    "# To be implemented\n",
    "pass"
   ]
  },
  {
   "cell_type": "code",
   "execution_count": null,
   "metadata": {
    "collapsed": true
   },
   "outputs": [],
   "source": [
    "# Get score for training set\n",
    "pass"
   ]
  },
  {
   "cell_type": "code",
   "execution_count": null,
   "metadata": {
    "collapsed": true,
    "scrolled": true
   },
   "outputs": [],
   "source": [
    "# Get score for test set\n",
    "pass"
   ]
  },
  {
   "cell_type": "markdown",
   "metadata": {},
   "source": [
    "#### Use (Stardardized + PCA) tf-idf vectors as features"
   ]
  },
  {
   "cell_type": "code",
   "execution_count": null,
   "metadata": {
    "collapsed": true
   },
   "outputs": [],
   "source": [
    "# Build a Random Forest Classifier\n",
    "\n",
    "from sklearn.ensemble import RandomForestClassifier\n",
    "\n",
    "# To be implemented\n",
    "pass"
   ]
  },
  {
   "cell_type": "code",
   "execution_count": null,
   "metadata": {
    "collapsed": true
   },
   "outputs": [],
   "source": [
    "# Get score for training set\n",
    "pass"
   ]
  },
  {
   "cell_type": "code",
   "execution_count": null,
   "metadata": {
    "collapsed": true
   },
   "outputs": [],
   "source": [
    "# Get score for test set, REMEMBER to use PCA-transformed X!\n",
    "pass"
   ]
  },
  {
   "cell_type": "markdown",
   "metadata": {},
   "source": [
    "#### Q: What do you see from the training result and the test result?"
   ]
  },
  {
   "cell_type": "markdown",
   "metadata": {},
   "source": [
    "A: (insert your comments here)"
   ]
  },
  {
   "cell_type": "markdown",
   "metadata": {},
   "source": [
    "#### You can plot the feature importances against principal components\n"
   ]
  },
  {
   "cell_type": "code",
   "execution_count": null,
   "metadata": {
    "collapsed": true
   },
   "outputs": [],
   "source": [
    "# To be implemented\n",
    "pass"
   ]
  },
  {
   "cell_type": "code",
   "execution_count": null,
   "metadata": {
    "collapsed": true
   },
   "outputs": [],
   "source": []
  },
  {
   "cell_type": "code",
   "execution_count": null,
   "metadata": {
    "collapsed": true
   },
   "outputs": [],
   "source": []
  },
  {
   "cell_type": "markdown",
   "metadata": {},
   "source": [
    "## Extra Credit #1: Can you cluster restaurants from their category information?\n",
    "Hint: a business may have mutiple categories, e.g. a restaurant can have both \"Restaurants\" and \"Korean\""
   ]
  },
  {
   "cell_type": "code",
   "execution_count": null,
   "metadata": {
    "collapsed": true
   },
   "outputs": [],
   "source": [
    "# To be implemented"
   ]
  },
  {
   "cell_type": "markdown",
   "metadata": {},
   "source": [
    "## Extra Credit #2: Can you try different distance/similarity metrics for clusterings, e.g. Pearson correlation, Jaccard distance, etc. \n",
    "\n",
    "Hint: You can take a look at [scipy](http://docs.scipy.org/doc/scipy/reference/generated/scipy.spatial.distance.pdist.html#scipy.spatial.distance.pdist) documentations to use other distances\n",
    "\n",
    "#### Q: How do you compare with Cosine distance or Euclidean distance?"
   ]
  },
  {
   "cell_type": "code",
   "execution_count": null,
   "metadata": {
    "collapsed": true
   },
   "outputs": [],
   "source": [
    "# To be implemented"
   ]
  },
  {
   "cell_type": "markdown",
   "metadata": {},
   "source": [
    "## Extra Credit #3: Can you cluster categories from business entities? What does it mean by a cluster?\n",
    "Hint: Think the example where words can be clustered from the transposed tf-idf matrix."
   ]
  },
  {
   "cell_type": "code",
   "execution_count": null,
   "metadata": {
    "collapsed": true
   },
   "outputs": [],
   "source": [
    "# To be implemented"
   ]
  },
  {
   "cell_type": "markdown",
   "metadata": {},
   "source": [
    "## Extra Credit #4: What are the characteristics of each of the clustered  ? For each cluster, which restaurant can best represent (\"define\") its cluster?\n",
    "Hint: how to interpret \"best\"?"
   ]
  },
  {
   "cell_type": "code",
   "execution_count": null,
   "metadata": {
    "collapsed": true
   },
   "outputs": [],
   "source": [
    "# To be implemented"
   ]
  },
  {
   "cell_type": "markdown",
   "metadata": {},
   "source": [
    "## Extra Credit #5: Can you think of other use cases that clustering can be used? \n",
    "Hint: of course you can make use of other yelp dataset. You can try anything you want as long as you can explain it."
   ]
  },
  {
   "cell_type": "code",
   "execution_count": null,
   "metadata": {
    "collapsed": true
   },
   "outputs": [],
   "source": [
    "# To be implemented"
   ]
  },
  {
   "cell_type": "code",
   "execution_count": null,
   "metadata": {
    "collapsed": true
   },
   "outputs": [],
   "source": []
  }
 ],
 "metadata": {
  "anaconda-cloud": {},
  "kernelspec": {
   "display_name": "Python 3",
   "language": "python",
   "name": "python3"
  },
  "language_info": {
   "codemirror_mode": {
    "name": "ipython",
    "version": 3
   },
   "file_extension": ".py",
   "mimetype": "text/x-python",
   "name": "python",
   "nbconvert_exporter": "python",
   "pygments_lexer": "ipython3",
   "version": "3.6.5"
  }
 },
 "nbformat": 4,
 "nbformat_minor": 1
}
