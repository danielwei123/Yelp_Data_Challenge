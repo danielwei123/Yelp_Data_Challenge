{
 "cells": [
  {
   "cell_type": "markdown",
   "metadata": {},
   "source": [
    "# Yelp Data Challenge - Data Preprocessing\n"
   ]
  },
  {
   "cell_type": "markdown",
   "metadata": {},
   "source": [
    "## Dataset Introduction\n",
    "\n",
    "[Yelp Dataset Challenge](https://www.yelp.com/dataset_challenge)\n",
    "\n",
    "The Challenge Dataset:\n",
    "\n",
    "    4.1M reviews and 947K tips by 1M users for 144K businesses\n",
    "    1.1M business attributes, e.g., hours, parking availability, ambience.\n",
    "    Aggregated check-ins over time for each of the 125K businesses\n",
    "    200,000 pictures from the included businesses\n",
    "\n",
    "Files:\n",
    "\n",
    "    business.json\n",
    "    checkin.json\n",
    "    review.json\n",
    "    tip.json\n",
    "    user.json\n",
    "\n",
    "Notes on the Dataset\n",
    "\n",
    "    Each file is composed of a single object type, one json-object per-line.\n",
    "    Take a look at some examples to get you started: https://github.com/Yelp/dataset-examples.\n",
    "\n"
   ]
  },
  {
   "cell_type": "markdown",
   "metadata": {},
   "source": [
    "## Read data from file and load to Pandas DataFrame\n",
    "\n",
    "**Warning**: Loading all the 7.3 GB data into Pandas at a time takes long time and a lot of memory!"
   ]
  },
  {
   "cell_type": "code",
   "execution_count": 33,
   "metadata": {},
   "outputs": [],
   "source": [
    "import json\n",
    "import pandas as pd"
   ]
  },
  {
   "cell_type": "code",
   "execution_count": 34,
   "metadata": {},
   "outputs": [],
   "source": [
    "file_business, file_checkin, file_review, file_tip, file_user = [\n",
    "    '../dataset/business.json',\n",
    "    '../dataset/checkin.json',\n",
    "    '../dataset/review.json',\n",
    "    '../dataset/tip.json',\n",
    "    '../dataset/user.json'\n",
    "]"
   ]
  },
  {
   "cell_type": "markdown",
   "metadata": {},
   "source": [
    "#### Business Data"
   ]
  },
  {
   "cell_type": "code",
   "execution_count": 35,
   "metadata": {},
   "outputs": [
    {
     "name": "stdout",
     "output_type": "stream",
     "text": [
      "<class 'str'>\n",
      "{\"business_id\":\"Apn5Q_b6Nz61Tq4XzPdf9A\",\"name\":\"Minhas Micro Brewery\",\"neighborhood\":\"\",\"address\":\"1314 44 Avenue NE\",\"city\":\"Calgary\",\"state\":\"AB\",\"postal_code\":\"T2E 6L6\",\"latitude\":51.0918130155,\"longitude\":-114.031674872,\"stars\":4.0,\"review_count\":24,\"is_open\":1,\"attributes\":{\"BikeParking\":\"False\",\"BusinessAcceptsCreditCards\":\"True\",\"BusinessParking\":\"{'garage': False, 'street': True, 'validated': False, 'lot': False, 'valet': False}\",\"GoodForKids\":\"True\",\"HasTV\":\"True\",\"NoiseLevel\":\"average\",\"OutdoorSeating\":\"False\",\"RestaurantsAttire\":\"casual\",\"RestaurantsDelivery\":\"False\",\"RestaurantsGoodForGroups\":\"True\",\"RestaurantsPriceRange2\":\"2\",\"RestaurantsReservations\":\"True\",\"RestaurantsTakeOut\":\"True\"},\"categories\":\"Tours, Breweries, Pizza, Restaurants, Food, Hotels & Travel\",\"hours\":{\"Monday\":\"8:30-17:0\",\"Tuesday\":\"11:0-21:0\",\"Wednesday\":\"11:0-21:0\",\"Thursday\":\"11:0-21:0\",\"Friday\":\"11:0-21:0\",\"Saturday\":\"11:0-21:0\"}}\n",
      "\n",
      "<class 'dict'>\n",
      "{'business_id': 'Apn5Q_b6Nz61Tq4XzPdf9A', 'name': 'Minhas Micro Brewery', 'neighborhood': '', 'address': '1314 44 Avenue NE', 'city': 'Calgary', 'state': 'AB', 'postal_code': 'T2E 6L6', 'latitude': 51.0918130155, 'longitude': -114.031674872, 'stars': 4.0, 'review_count': 24, 'is_open': 1, 'attributes': {'BikeParking': 'False', 'BusinessAcceptsCreditCards': 'True', 'BusinessParking': \"{'garage': False, 'street': True, 'validated': False, 'lot': False, 'valet': False}\", 'GoodForKids': 'True', 'HasTV': 'True', 'NoiseLevel': 'average', 'OutdoorSeating': 'False', 'RestaurantsAttire': 'casual', 'RestaurantsDelivery': 'False', 'RestaurantsGoodForGroups': 'True', 'RestaurantsPriceRange2': '2', 'RestaurantsReservations': 'True', 'RestaurantsTakeOut': 'True'}, 'categories': 'Tours, Breweries, Pizza, Restaurants, Food, Hotels & Travel', 'hours': {'Monday': '8:30-17:0', 'Tuesday': '11:0-21:0', 'Wednesday': '11:0-21:0', 'Thursday': '11:0-21:0', 'Friday': '11:0-21:0', 'Saturday': '11:0-21:0'}}\n"
     ]
    }
   ],
   "source": [
    "# open file\n",
    "f = open(file_business)\n",
    "first_line = f.readline()\n",
    "first_line_json = json.loads(first_line)\n",
    "\n",
    "print(type(first_line))\n",
    "print(first_line)\n",
    "print(type(first_line_json))\n",
    "print(first_line_json)"
   ]
  },
  {
   "cell_type": "code",
   "execution_count": 36,
   "metadata": {},
   "outputs": [],
   "source": [
    "with open(file_business) as f:\n",
    "    df_business = pd.DataFrame(json.loads(line) for line in f)"
   ]
  },
  {
   "cell_type": "code",
   "execution_count": 39,
   "metadata": {},
   "outputs": [
    {
     "data": {
      "text/html": [
       "<div>\n",
       "<style scoped>\n",
       "    .dataframe tbody tr th:only-of-type {\n",
       "        vertical-align: middle;\n",
       "    }\n",
       "\n",
       "    .dataframe tbody tr th {\n",
       "        vertical-align: top;\n",
       "    }\n",
       "\n",
       "    .dataframe thead th {\n",
       "        text-align: right;\n",
       "    }\n",
       "</style>\n",
       "<table border=\"1\" class=\"dataframe\">\n",
       "  <thead>\n",
       "    <tr style=\"text-align: right;\">\n",
       "      <th></th>\n",
       "      <th>address</th>\n",
       "      <th>attributes</th>\n",
       "      <th>business_id</th>\n",
       "      <th>categories</th>\n",
       "      <th>city</th>\n",
       "      <th>hours</th>\n",
       "      <th>is_open</th>\n",
       "      <th>latitude</th>\n",
       "      <th>longitude</th>\n",
       "      <th>name</th>\n",
       "      <th>neighborhood</th>\n",
       "      <th>postal_code</th>\n",
       "      <th>review_count</th>\n",
       "      <th>stars</th>\n",
       "      <th>state</th>\n",
       "    </tr>\n",
       "  </thead>\n",
       "  <tbody>\n",
       "    <tr>\n",
       "      <th>0</th>\n",
       "      <td>1314 44 Avenue NE</td>\n",
       "      <td>{'BikeParking': 'False', 'BusinessAcceptsCredi...</td>\n",
       "      <td>Apn5Q_b6Nz61Tq4XzPdf9A</td>\n",
       "      <td>Tours, Breweries, Pizza, Restaurants, Food, Ho...</td>\n",
       "      <td>Calgary</td>\n",
       "      <td>{'Monday': '8:30-17:0', 'Tuesday': '11:0-21:0'...</td>\n",
       "      <td>1</td>\n",
       "      <td>51.091813</td>\n",
       "      <td>-114.031675</td>\n",
       "      <td>Minhas Micro Brewery</td>\n",
       "      <td></td>\n",
       "      <td>T2E 6L6</td>\n",
       "      <td>24</td>\n",
       "      <td>4.0</td>\n",
       "      <td>AB</td>\n",
       "    </tr>\n",
       "    <tr>\n",
       "      <th>1</th>\n",
       "      <td></td>\n",
       "      <td>{'Alcohol': 'none', 'BikeParking': 'False', 'B...</td>\n",
       "      <td>AjEbIBw6ZFfln7ePHha9PA</td>\n",
       "      <td>Chicken Wings, Burgers, Caterers, Street Vendo...</td>\n",
       "      <td>Henderson</td>\n",
       "      <td>{'Friday': '17:0-23:0', 'Saturday': '17:0-23:0...</td>\n",
       "      <td>0</td>\n",
       "      <td>35.960734</td>\n",
       "      <td>-114.939821</td>\n",
       "      <td>CK'S BBQ &amp; Catering</td>\n",
       "      <td></td>\n",
       "      <td>89002</td>\n",
       "      <td>3</td>\n",
       "      <td>4.5</td>\n",
       "      <td>NV</td>\n",
       "    </tr>\n",
       "    <tr>\n",
       "      <th>2</th>\n",
       "      <td>1335 rue Beaubien E</td>\n",
       "      <td>{'Alcohol': 'beer_and_wine', 'Ambience': '{'ro...</td>\n",
       "      <td>O8S5hYJ1SMc8fA4QBtVujA</td>\n",
       "      <td>Breakfast &amp; Brunch, Restaurants, French, Sandw...</td>\n",
       "      <td>Montréal</td>\n",
       "      <td>{'Monday': '10:0-22:0', 'Tuesday': '10:0-22:0'...</td>\n",
       "      <td>0</td>\n",
       "      <td>45.540503</td>\n",
       "      <td>-73.599300</td>\n",
       "      <td>La Bastringue</td>\n",
       "      <td>Rosemont-La Petite-Patrie</td>\n",
       "      <td>H2G 1K7</td>\n",
       "      <td>5</td>\n",
       "      <td>4.0</td>\n",
       "      <td>QC</td>\n",
       "    </tr>\n",
       "    <tr>\n",
       "      <th>3</th>\n",
       "      <td>211 W Monroe St</td>\n",
       "      <td>None</td>\n",
       "      <td>bFzdJJ3wp3PZssNEsyU23g</td>\n",
       "      <td>Insurance, Financial Services</td>\n",
       "      <td>Phoenix</td>\n",
       "      <td>None</td>\n",
       "      <td>1</td>\n",
       "      <td>33.449999</td>\n",
       "      <td>-112.076979</td>\n",
       "      <td>Geico Insurance</td>\n",
       "      <td></td>\n",
       "      <td>85003</td>\n",
       "      <td>8</td>\n",
       "      <td>1.5</td>\n",
       "      <td>AZ</td>\n",
       "    </tr>\n",
       "    <tr>\n",
       "      <th>4</th>\n",
       "      <td>2005 Alyth Place SE</td>\n",
       "      <td>{'BusinessAcceptsCreditCards': 'True'}</td>\n",
       "      <td>8USyCYqpScwiNEb58Bt6CA</td>\n",
       "      <td>Home &amp; Garden, Nurseries &amp; Gardening, Shopping...</td>\n",
       "      <td>Calgary</td>\n",
       "      <td>{'Monday': '8:0-17:0', 'Tuesday': '8:0-17:0', ...</td>\n",
       "      <td>1</td>\n",
       "      <td>51.035591</td>\n",
       "      <td>-114.027366</td>\n",
       "      <td>Action Engine</td>\n",
       "      <td></td>\n",
       "      <td>T2H 0N5</td>\n",
       "      <td>4</td>\n",
       "      <td>2.0</td>\n",
       "      <td>AB</td>\n",
       "    </tr>\n",
       "    <tr>\n",
       "      <th>5</th>\n",
       "      <td>20235 N Cave Creek Rd, Ste 1115</td>\n",
       "      <td>{'BikeParking': 'True', 'BusinessAcceptsCredit...</td>\n",
       "      <td>45bWSZtniwPRiqlivpS8Og</td>\n",
       "      <td>Coffee &amp; Tea, Food</td>\n",
       "      <td>Phoenix</td>\n",
       "      <td>{'Monday': '5:30-20:0', 'Tuesday': '5:30-20:0'...</td>\n",
       "      <td>1</td>\n",
       "      <td>33.671375</td>\n",
       "      <td>-112.030017</td>\n",
       "      <td>The Coffee Bean &amp; Tea Leaf</td>\n",
       "      <td></td>\n",
       "      <td>85024</td>\n",
       "      <td>63</td>\n",
       "      <td>4.0</td>\n",
       "      <td>AZ</td>\n",
       "    </tr>\n",
       "    <tr>\n",
       "      <th>6</th>\n",
       "      <td>631 Bloor St W</td>\n",
       "      <td>{'BusinessParking': '{'garage': False, 'street...</td>\n",
       "      <td>9A2quhZLyWk0akUetBd8hQ</td>\n",
       "      <td>Food, Bakeries</td>\n",
       "      <td>Toronto</td>\n",
       "      <td>None</td>\n",
       "      <td>0</td>\n",
       "      <td>43.664378</td>\n",
       "      <td>-79.414424</td>\n",
       "      <td>Bnc Cake House</td>\n",
       "      <td>Koreatown</td>\n",
       "      <td>M6G 1K8</td>\n",
       "      <td>7</td>\n",
       "      <td>4.0</td>\n",
       "      <td>ON</td>\n",
       "    </tr>\n",
       "    <tr>\n",
       "      <th>7</th>\n",
       "      <td>3417 Derry Road E, Unit 103</td>\n",
       "      <td>{'Alcohol': 'none', 'BusinessAcceptsCreditCard...</td>\n",
       "      <td>6OuOZAok8ikONMS_T3EzXg</td>\n",
       "      <td>Restaurants, Thai</td>\n",
       "      <td>Mississauga</td>\n",
       "      <td>None</td>\n",
       "      <td>1</td>\n",
       "      <td>43.712946</td>\n",
       "      <td>-79.632763</td>\n",
       "      <td>Thai One On</td>\n",
       "      <td>Ridgewood</td>\n",
       "      <td>L4T 1A8</td>\n",
       "      <td>7</td>\n",
       "      <td>2.0</td>\n",
       "      <td>ON</td>\n",
       "    </tr>\n",
       "    <tr>\n",
       "      <th>8</th>\n",
       "      <td>1440 N. Dysart Ave</td>\n",
       "      <td>{'Alcohol': 'none', 'Ambience': '{'romantic': ...</td>\n",
       "      <td>8-NRKkPY1UiFXW20WXKiXg</td>\n",
       "      <td>Mexican, Restaurants</td>\n",
       "      <td>Avondale</td>\n",
       "      <td>{'Monday': '0:0-0:0', 'Tuesday': '0:0-0:0', 'W...</td>\n",
       "      <td>1</td>\n",
       "      <td>33.448106</td>\n",
       "      <td>-112.341302</td>\n",
       "      <td>Filiberto's Mexican Food</td>\n",
       "      <td></td>\n",
       "      <td>85323</td>\n",
       "      <td>40</td>\n",
       "      <td>2.5</td>\n",
       "      <td>AZ</td>\n",
       "    </tr>\n",
       "    <tr>\n",
       "      <th>9</th>\n",
       "      <td>209 Oakland Ave</td>\n",
       "      <td>{'BikeParking': 'True', 'BusinessAcceptsCredit...</td>\n",
       "      <td>UTm5QZThPQlT35mkAcGOjg</td>\n",
       "      <td>Flowers &amp; Gifts, Gift Shops, Shopping</td>\n",
       "      <td>Pittsburgh</td>\n",
       "      <td>{'Monday': '9:0-18:0', 'Tuesday': '9:0-18:0', ...</td>\n",
       "      <td>1</td>\n",
       "      <td>40.441421</td>\n",
       "      <td>-79.956457</td>\n",
       "      <td>Maggie &amp; Stella's Gifts</td>\n",
       "      <td>Oakland</td>\n",
       "      <td>15213</td>\n",
       "      <td>3</td>\n",
       "      <td>3.5</td>\n",
       "      <td>PA</td>\n",
       "    </tr>\n",
       "  </tbody>\n",
       "</table>\n",
       "</div>"
      ],
      "text/plain": [
       "                           address  \\\n",
       "0                1314 44 Avenue NE   \n",
       "1                                    \n",
       "2              1335 rue Beaubien E   \n",
       "3                  211 W Monroe St   \n",
       "4              2005 Alyth Place SE   \n",
       "5  20235 N Cave Creek Rd, Ste 1115   \n",
       "6                   631 Bloor St W   \n",
       "7      3417 Derry Road E, Unit 103   \n",
       "8               1440 N. Dysart Ave   \n",
       "9                  209 Oakland Ave   \n",
       "\n",
       "                                          attributes             business_id  \\\n",
       "0  {'BikeParking': 'False', 'BusinessAcceptsCredi...  Apn5Q_b6Nz61Tq4XzPdf9A   \n",
       "1  {'Alcohol': 'none', 'BikeParking': 'False', 'B...  AjEbIBw6ZFfln7ePHha9PA   \n",
       "2  {'Alcohol': 'beer_and_wine', 'Ambience': '{'ro...  O8S5hYJ1SMc8fA4QBtVujA   \n",
       "3                                               None  bFzdJJ3wp3PZssNEsyU23g   \n",
       "4             {'BusinessAcceptsCreditCards': 'True'}  8USyCYqpScwiNEb58Bt6CA   \n",
       "5  {'BikeParking': 'True', 'BusinessAcceptsCredit...  45bWSZtniwPRiqlivpS8Og   \n",
       "6  {'BusinessParking': '{'garage': False, 'street...  9A2quhZLyWk0akUetBd8hQ   \n",
       "7  {'Alcohol': 'none', 'BusinessAcceptsCreditCard...  6OuOZAok8ikONMS_T3EzXg   \n",
       "8  {'Alcohol': 'none', 'Ambience': '{'romantic': ...  8-NRKkPY1UiFXW20WXKiXg   \n",
       "9  {'BikeParking': 'True', 'BusinessAcceptsCredit...  UTm5QZThPQlT35mkAcGOjg   \n",
       "\n",
       "                                          categories         city  \\\n",
       "0  Tours, Breweries, Pizza, Restaurants, Food, Ho...      Calgary   \n",
       "1  Chicken Wings, Burgers, Caterers, Street Vendo...    Henderson   \n",
       "2  Breakfast & Brunch, Restaurants, French, Sandw...     Montréal   \n",
       "3                      Insurance, Financial Services      Phoenix   \n",
       "4  Home & Garden, Nurseries & Gardening, Shopping...      Calgary   \n",
       "5                                 Coffee & Tea, Food      Phoenix   \n",
       "6                                     Food, Bakeries      Toronto   \n",
       "7                                  Restaurants, Thai  Mississauga   \n",
       "8                               Mexican, Restaurants     Avondale   \n",
       "9              Flowers & Gifts, Gift Shops, Shopping   Pittsburgh   \n",
       "\n",
       "                                               hours  is_open   latitude  \\\n",
       "0  {'Monday': '8:30-17:0', 'Tuesday': '11:0-21:0'...        1  51.091813   \n",
       "1  {'Friday': '17:0-23:0', 'Saturday': '17:0-23:0...        0  35.960734   \n",
       "2  {'Monday': '10:0-22:0', 'Tuesday': '10:0-22:0'...        0  45.540503   \n",
       "3                                               None        1  33.449999   \n",
       "4  {'Monday': '8:0-17:0', 'Tuesday': '8:0-17:0', ...        1  51.035591   \n",
       "5  {'Monday': '5:30-20:0', 'Tuesday': '5:30-20:0'...        1  33.671375   \n",
       "6                                               None        0  43.664378   \n",
       "7                                               None        1  43.712946   \n",
       "8  {'Monday': '0:0-0:0', 'Tuesday': '0:0-0:0', 'W...        1  33.448106   \n",
       "9  {'Monday': '9:0-18:0', 'Tuesday': '9:0-18:0', ...        1  40.441421   \n",
       "\n",
       "    longitude                        name               neighborhood  \\\n",
       "0 -114.031675        Minhas Micro Brewery                              \n",
       "1 -114.939821         CK'S BBQ & Catering                              \n",
       "2  -73.599300               La Bastringue  Rosemont-La Petite-Patrie   \n",
       "3 -112.076979             Geico Insurance                              \n",
       "4 -114.027366               Action Engine                              \n",
       "5 -112.030017  The Coffee Bean & Tea Leaf                              \n",
       "6  -79.414424              Bnc Cake House                  Koreatown   \n",
       "7  -79.632763                 Thai One On                  Ridgewood   \n",
       "8 -112.341302    Filiberto's Mexican Food                              \n",
       "9  -79.956457     Maggie & Stella's Gifts                    Oakland   \n",
       "\n",
       "  postal_code  review_count  stars state  \n",
       "0     T2E 6L6            24    4.0    AB  \n",
       "1       89002             3    4.5    NV  \n",
       "2     H2G 1K7             5    4.0    QC  \n",
       "3       85003             8    1.5    AZ  \n",
       "4     T2H 0N5             4    2.0    AB  \n",
       "5       85024            63    4.0    AZ  \n",
       "6     M6G 1K8             7    4.0    ON  \n",
       "7     L4T 1A8             7    2.0    ON  \n",
       "8       85323            40    2.5    AZ  \n",
       "9       15213             3    3.5    PA  "
      ]
     },
     "execution_count": 39,
     "metadata": {},
     "output_type": "execute_result"
    }
   ],
   "source": [
    "df_business.head(10)"
   ]
  },
  {
   "cell_type": "code",
   "execution_count": 40,
   "metadata": {},
   "outputs": [
    {
     "name": "stdout",
     "output_type": "stream",
     "text": [
      "<class 'pandas.core.frame.DataFrame'>\n",
      "RangeIndex: 188593 entries, 0 to 188592\n",
      "Data columns (total 15 columns):\n",
      "address         188593 non-null object\n",
      "attributes      162807 non-null object\n",
      "business_id     188593 non-null object\n",
      "categories      188052 non-null object\n",
      "city            188593 non-null object\n",
      "hours           143791 non-null object\n",
      "is_open         188593 non-null int64\n",
      "latitude        188587 non-null float64\n",
      "longitude       188587 non-null float64\n",
      "name            188593 non-null object\n",
      "neighborhood    188593 non-null object\n",
      "postal_code     188593 non-null object\n",
      "review_count    188593 non-null int64\n",
      "stars           188593 non-null float64\n",
      "state           188593 non-null object\n",
      "dtypes: float64(3), int64(2), object(10)\n",
      "memory usage: 21.6+ MB\n"
     ]
    }
   ],
   "source": [
    "df_business.info()"
   ]
  },
  {
   "cell_type": "markdown",
   "metadata": {},
   "source": [
    "#### Checkin Data"
   ]
  },
  {
   "cell_type": "code",
   "execution_count": null,
   "metadata": {
    "collapsed": true
   },
   "outputs": [],
   "source": [
    "# with open(file_checkin) as f:\n",
    "#     df_checkin = pd.DataFrame(json.loads(line) for line in f)\n",
    "# df_checkin.head(5)"
   ]
  },
  {
   "cell_type": "markdown",
   "metadata": {},
   "source": [
    "#### Review Data"
   ]
  },
  {
   "cell_type": "code",
   "execution_count": null,
   "metadata": {
    "collapsed": true
   },
   "outputs": [],
   "source": [
    "# with open(file_review) as f:\n",
    "#     df_review = pd.DataFrame(json.loads(line) for line in f)\n",
    "# df_review.head(5)"
   ]
  },
  {
   "cell_type": "markdown",
   "metadata": {},
   "source": [
    "#### Tip Data"
   ]
  },
  {
   "cell_type": "code",
   "execution_count": null,
   "metadata": {
    "collapsed": true
   },
   "outputs": [],
   "source": [
    "# with open(file_tip) as f:\n",
    "#     df_tip = pd.DataFrame(json.loads(line) for line in f)\n",
    "# df_tip.head(5)"
   ]
  },
  {
   "cell_type": "markdown",
   "metadata": {},
   "source": [
    "#### User Data"
   ]
  },
  {
   "cell_type": "code",
   "execution_count": null,
   "metadata": {
    "collapsed": true
   },
   "outputs": [],
   "source": [
    "# with open(file_user) as f:\n",
    "#     df_user = pd.DataFrame(json.loads(line) for line in f)\n",
    "# df_user.head(5)"
   ]
  },
  {
   "cell_type": "markdown",
   "metadata": {},
   "source": [
    "## Filter data by city and category"
   ]
  },
  {
   "cell_type": "markdown",
   "metadata": {},
   "source": [
    "#### Create filters/masks\n",
    "\n",
    "* create filters that selects business \n",
    "    * that are located in \"Las Vegas\"\n",
    "    * that contains \"Restaurants\" in their category (filter null categories first)"
   ]
  },
  {
   "cell_type": "code",
   "execution_count": 41,
   "metadata": {},
   "outputs": [],
   "source": [
    "# Create Pandas DataFrame filters\n",
    "\n",
    "# city Las Vegas: bool\n",
    "cond_city = df_business['city'] == \"Las Vegas\"\n",
    "\n",
    "# isnull: bool\n",
    "cond_category_not_null = ~df_business[\"categories\"].isnull()\n",
    "\n",
    "# restaurant in categories\n",
    "# first, apply(str) convert categories to strings,\n",
    "# then check if it contains Restaurants\n",
    "cond_category_restaurant = df_business[\"categories\"].apply(str).str.contains(\"Restaurants\")"
   ]
  },
  {
   "cell_type": "code",
   "execution_count": 42,
   "metadata": {},
   "outputs": [],
   "source": [
    "# Create filtered DataFrame, and name it df_filtered\n",
    "df_filtered = df_business[cond_city & cond_category_not_null & cond_category_restaurant]"
   ]
  },
  {
   "cell_type": "markdown",
   "metadata": {},
   "source": [
    "#### Keep relevant columns\n",
    "\n",
    "* only keep some useful columns\n",
    "    * business_id\n",
    "    * name\n",
    "    * categories\n",
    "    * stars"
   ]
  },
  {
   "cell_type": "code",
   "execution_count": 43,
   "metadata": {},
   "outputs": [],
   "source": [
    "selected_features = [u'business_id', u'name', u'categories', u'stars']"
   ]
  },
  {
   "cell_type": "code",
   "execution_count": 44,
   "metadata": {},
   "outputs": [],
   "source": [
    "# Make a DataFrame that contains only the abovementioned columns, and name it as df_selected_business\n",
    "df_selected_business = df_filtered[selected_features]"
   ]
  },
  {
   "cell_type": "code",
   "execution_count": 45,
   "metadata": {},
   "outputs": [
    {
     "name": "stderr",
     "output_type": "stream",
     "text": [
      "/anaconda3/lib/python3.6/site-packages/pandas/core/frame.py:3778: SettingWithCopyWarning: \n",
      "A value is trying to be set on a copy of a slice from a DataFrame\n",
      "\n",
      "See the caveats in the documentation: http://pandas.pydata.org/pandas-docs/stable/indexing.html#indexing-view-versus-copy\n",
      "  return super(DataFrame, self).rename(**kwargs)\n"
     ]
    }
   ],
   "source": [
    "# Rename the column name \"stars\" to \"avg_stars\" to avoid naming conflicts with review dataset\n",
    "df_selected_business.rename(columns={\"stars\":\"avg_stars\"}, inplace=True)"
   ]
  },
  {
   "cell_type": "code",
   "execution_count": 46,
   "metadata": {},
   "outputs": [
    {
     "name": "stdout",
     "output_type": "stream",
     "text": [
      "<class 'pandas.core.frame.DataFrame'>\n",
      "Int64Index: 6148 entries, 19 to 188567\n",
      "Data columns (total 4 columns):\n",
      "business_id    6148 non-null object\n",
      "name           6148 non-null object\n",
      "categories     6148 non-null object\n",
      "avg_stars      6148 non-null float64\n",
      "dtypes: float64(1), object(3)\n",
      "memory usage: 240.2+ KB\n"
     ]
    }
   ],
   "source": [
    "# Inspect your DataFrame\n",
    "df_selected_business.info()"
   ]
  },
  {
   "cell_type": "code",
   "execution_count": 60,
   "metadata": {},
   "outputs": [
    {
     "data": {
      "text/html": [
       "<div>\n",
       "<style scoped>\n",
       "    .dataframe tbody tr th:only-of-type {\n",
       "        vertical-align: middle;\n",
       "    }\n",
       "\n",
       "    .dataframe tbody tr th {\n",
       "        vertical-align: top;\n",
       "    }\n",
       "\n",
       "    .dataframe thead th {\n",
       "        text-align: right;\n",
       "    }\n",
       "</style>\n",
       "<table border=\"1\" class=\"dataframe\">\n",
       "  <thead>\n",
       "    <tr style=\"text-align: right;\">\n",
       "      <th></th>\n",
       "      <th>business_id</th>\n",
       "      <th>name</th>\n",
       "      <th>categories</th>\n",
       "      <th>avg_stars</th>\n",
       "    </tr>\n",
       "  </thead>\n",
       "  <tbody>\n",
       "    <tr>\n",
       "      <th>19</th>\n",
       "      <td>vJIuDBdu01vCA8y1fwR1OQ</td>\n",
       "      <td>CakesbyToi</td>\n",
       "      <td>American (Traditional), Food, Bakeries, Restau...</td>\n",
       "      <td>1.5</td>\n",
       "    </tr>\n",
       "    <tr>\n",
       "      <th>32</th>\n",
       "      <td>kgffcoxT6BQp-gJ-UQ7Czw</td>\n",
       "      <td>Subway</td>\n",
       "      <td>Fast Food, Restaurants, Sandwiches</td>\n",
       "      <td>2.5</td>\n",
       "    </tr>\n",
       "    <tr>\n",
       "      <th>33</th>\n",
       "      <td>0jtRI7hVMpQHpUVtUy4ITw</td>\n",
       "      <td>Omelet House Summerlin</td>\n",
       "      <td>Beer, Wine &amp; Spirits, Italian, Food, American ...</td>\n",
       "      <td>4.0</td>\n",
       "    </tr>\n",
       "    <tr>\n",
       "      <th>61</th>\n",
       "      <td>JJEx5wIqs9iGGATOagE8Sg</td>\n",
       "      <td>Baja Fresh Mexican Grill</td>\n",
       "      <td>Mexican, Restaurants</td>\n",
       "      <td>2.0</td>\n",
       "    </tr>\n",
       "    <tr>\n",
       "      <th>141</th>\n",
       "      <td>zhxnD7J5_sCrKSw5cwI9dQ</td>\n",
       "      <td>Popeyes Louisiana Kitchen</td>\n",
       "      <td>Chicken Wings, Restaurants, Fast Food</td>\n",
       "      <td>1.5</td>\n",
       "    </tr>\n",
       "    <tr>\n",
       "      <th>143</th>\n",
       "      <td>2kWrSFkIes_d2BMg4YrRtA</td>\n",
       "      <td>Pizza Hut</td>\n",
       "      <td>Restaurants, Pizza</td>\n",
       "      <td>2.5</td>\n",
       "    </tr>\n",
       "    <tr>\n",
       "      <th>145</th>\n",
       "      <td>6llKs7K_tn8ChXcIM-oTvg</td>\n",
       "      <td>Sansei Japan</td>\n",
       "      <td>Japanese, Restaurants</td>\n",
       "      <td>4.5</td>\n",
       "    </tr>\n",
       "    <tr>\n",
       "      <th>197</th>\n",
       "      <td>YV9GVfmDSDM7HSV0jVdTOA</td>\n",
       "      <td>El Pollo Loco</td>\n",
       "      <td>Restaurants, Salad, Fast Food, Mexican</td>\n",
       "      <td>3.0</td>\n",
       "    </tr>\n",
       "    <tr>\n",
       "      <th>203</th>\n",
       "      <td>F7OsiFk9aLZtqZczA84xpw</td>\n",
       "      <td>Popeyes Louisiana Kitchen</td>\n",
       "      <td>Southern, Chicken Wings, Fast Food, American (...</td>\n",
       "      <td>2.0</td>\n",
       "    </tr>\n",
       "    <tr>\n",
       "      <th>249</th>\n",
       "      <td>XeDLyY2a7nZ3IEY4RYslXA</td>\n",
       "      <td>Chicago Brewing Company</td>\n",
       "      <td>American (New), Restaurants, Food, Breweries, ...</td>\n",
       "      <td>3.5</td>\n",
       "    </tr>\n",
       "  </tbody>\n",
       "</table>\n",
       "</div>"
      ],
      "text/plain": [
       "                business_id                       name  \\\n",
       "19   vJIuDBdu01vCA8y1fwR1OQ                 CakesbyToi   \n",
       "32   kgffcoxT6BQp-gJ-UQ7Czw                     Subway   \n",
       "33   0jtRI7hVMpQHpUVtUy4ITw     Omelet House Summerlin   \n",
       "61   JJEx5wIqs9iGGATOagE8Sg   Baja Fresh Mexican Grill   \n",
       "141  zhxnD7J5_sCrKSw5cwI9dQ  Popeyes Louisiana Kitchen   \n",
       "143  2kWrSFkIes_d2BMg4YrRtA                  Pizza Hut   \n",
       "145  6llKs7K_tn8ChXcIM-oTvg               Sansei Japan   \n",
       "197  YV9GVfmDSDM7HSV0jVdTOA              El Pollo Loco   \n",
       "203  F7OsiFk9aLZtqZczA84xpw  Popeyes Louisiana Kitchen   \n",
       "249  XeDLyY2a7nZ3IEY4RYslXA    Chicago Brewing Company   \n",
       "\n",
       "                                            categories  avg_stars  \n",
       "19   American (Traditional), Food, Bakeries, Restau...        1.5  \n",
       "32                  Fast Food, Restaurants, Sandwiches        2.5  \n",
       "33   Beer, Wine & Spirits, Italian, Food, American ...        4.0  \n",
       "61                                Mexican, Restaurants        2.0  \n",
       "141              Chicken Wings, Restaurants, Fast Food        1.5  \n",
       "143                                 Restaurants, Pizza        2.5  \n",
       "145                              Japanese, Restaurants        4.5  \n",
       "197             Restaurants, Salad, Fast Food, Mexican        3.0  \n",
       "203  Southern, Chicken Wings, Fast Food, American (...        2.0  \n",
       "249  American (New), Restaurants, Food, Breweries, ...        3.5  "
      ]
     },
     "execution_count": 60,
     "metadata": {},
     "output_type": "execute_result"
    }
   ],
   "source": [
    "df_selected_business.head(10)"
   ]
  },
  {
   "cell_type": "markdown",
   "metadata": {},
   "source": [
    "#### Save results to csv files"
   ]
  },
  {
   "cell_type": "code",
   "execution_count": 53,
   "metadata": {},
   "outputs": [],
   "source": [
    "# Save to ./data/selected_business.csv for your next task\n",
    "df_selected_business.to_csv(\"../dataset/selected_business.csv\", index=False, encoding=\"utf-8\")"
   ]
  },
  {
   "cell_type": "code",
   "execution_count": 55,
   "metadata": {},
   "outputs": [
    {
     "data": {
      "text/html": [
       "<div>\n",
       "<style scoped>\n",
       "    .dataframe tbody tr th:only-of-type {\n",
       "        vertical-align: middle;\n",
       "    }\n",
       "\n",
       "    .dataframe tbody tr th {\n",
       "        vertical-align: top;\n",
       "    }\n",
       "\n",
       "    .dataframe thead th {\n",
       "        text-align: right;\n",
       "    }\n",
       "</style>\n",
       "<table border=\"1\" class=\"dataframe\">\n",
       "  <thead>\n",
       "    <tr style=\"text-align: right;\">\n",
       "      <th></th>\n",
       "      <th>business_id</th>\n",
       "      <th>name</th>\n",
       "      <th>categories</th>\n",
       "      <th>avg_stars</th>\n",
       "    </tr>\n",
       "  </thead>\n",
       "  <tbody>\n",
       "    <tr>\n",
       "      <th>0</th>\n",
       "      <td>vJIuDBdu01vCA8y1fwR1OQ</td>\n",
       "      <td>CakesbyToi</td>\n",
       "      <td>American (Traditional), Food, Bakeries, Restau...</td>\n",
       "      <td>1.5</td>\n",
       "    </tr>\n",
       "    <tr>\n",
       "      <th>1</th>\n",
       "      <td>kgffcoxT6BQp-gJ-UQ7Czw</td>\n",
       "      <td>Subway</td>\n",
       "      <td>Fast Food, Restaurants, Sandwiches</td>\n",
       "      <td>2.5</td>\n",
       "    </tr>\n",
       "    <tr>\n",
       "      <th>2</th>\n",
       "      <td>0jtRI7hVMpQHpUVtUy4ITw</td>\n",
       "      <td>Omelet House Summerlin</td>\n",
       "      <td>Beer, Wine &amp; Spirits, Italian, Food, American ...</td>\n",
       "      <td>4.0</td>\n",
       "    </tr>\n",
       "    <tr>\n",
       "      <th>3</th>\n",
       "      <td>JJEx5wIqs9iGGATOagE8Sg</td>\n",
       "      <td>Baja Fresh Mexican Grill</td>\n",
       "      <td>Mexican, Restaurants</td>\n",
       "      <td>2.0</td>\n",
       "    </tr>\n",
       "    <tr>\n",
       "      <th>4</th>\n",
       "      <td>zhxnD7J5_sCrKSw5cwI9dQ</td>\n",
       "      <td>Popeyes Louisiana Kitchen</td>\n",
       "      <td>Chicken Wings, Restaurants, Fast Food</td>\n",
       "      <td>1.5</td>\n",
       "    </tr>\n",
       "    <tr>\n",
       "      <th>5</th>\n",
       "      <td>2kWrSFkIes_d2BMg4YrRtA</td>\n",
       "      <td>Pizza Hut</td>\n",
       "      <td>Restaurants, Pizza</td>\n",
       "      <td>2.5</td>\n",
       "    </tr>\n",
       "    <tr>\n",
       "      <th>6</th>\n",
       "      <td>6llKs7K_tn8ChXcIM-oTvg</td>\n",
       "      <td>Sansei Japan</td>\n",
       "      <td>Japanese, Restaurants</td>\n",
       "      <td>4.5</td>\n",
       "    </tr>\n",
       "    <tr>\n",
       "      <th>7</th>\n",
       "      <td>YV9GVfmDSDM7HSV0jVdTOA</td>\n",
       "      <td>El Pollo Loco</td>\n",
       "      <td>Restaurants, Salad, Fast Food, Mexican</td>\n",
       "      <td>3.0</td>\n",
       "    </tr>\n",
       "    <tr>\n",
       "      <th>8</th>\n",
       "      <td>F7OsiFk9aLZtqZczA84xpw</td>\n",
       "      <td>Popeyes Louisiana Kitchen</td>\n",
       "      <td>Southern, Chicken Wings, Fast Food, American (...</td>\n",
       "      <td>2.0</td>\n",
       "    </tr>\n",
       "    <tr>\n",
       "      <th>9</th>\n",
       "      <td>XeDLyY2a7nZ3IEY4RYslXA</td>\n",
       "      <td>Chicago Brewing Company</td>\n",
       "      <td>American (New), Restaurants, Food, Breweries, ...</td>\n",
       "      <td>3.5</td>\n",
       "    </tr>\n",
       "  </tbody>\n",
       "</table>\n",
       "</div>"
      ],
      "text/plain": [
       "              business_id                       name  \\\n",
       "0  vJIuDBdu01vCA8y1fwR1OQ                 CakesbyToi   \n",
       "1  kgffcoxT6BQp-gJ-UQ7Czw                     Subway   \n",
       "2  0jtRI7hVMpQHpUVtUy4ITw     Omelet House Summerlin   \n",
       "3  JJEx5wIqs9iGGATOagE8Sg   Baja Fresh Mexican Grill   \n",
       "4  zhxnD7J5_sCrKSw5cwI9dQ  Popeyes Louisiana Kitchen   \n",
       "5  2kWrSFkIes_d2BMg4YrRtA                  Pizza Hut   \n",
       "6  6llKs7K_tn8ChXcIM-oTvg               Sansei Japan   \n",
       "7  YV9GVfmDSDM7HSV0jVdTOA              El Pollo Loco   \n",
       "8  F7OsiFk9aLZtqZczA84xpw  Popeyes Louisiana Kitchen   \n",
       "9  XeDLyY2a7nZ3IEY4RYslXA    Chicago Brewing Company   \n",
       "\n",
       "                                          categories  avg_stars  \n",
       "0  American (Traditional), Food, Bakeries, Restau...        1.5  \n",
       "1                 Fast Food, Restaurants, Sandwiches        2.5  \n",
       "2  Beer, Wine & Spirits, Italian, Food, American ...        4.0  \n",
       "3                               Mexican, Restaurants        2.0  \n",
       "4              Chicken Wings, Restaurants, Fast Food        1.5  \n",
       "5                                 Restaurants, Pizza        2.5  \n",
       "6                              Japanese, Restaurants        4.5  \n",
       "7             Restaurants, Salad, Fast Food, Mexican        3.0  \n",
       "8  Southern, Chicken Wings, Fast Food, American (...        2.0  \n",
       "9  American (New), Restaurants, Food, Breweries, ...        3.5  "
      ]
     },
     "execution_count": 55,
     "metadata": {},
     "output_type": "execute_result"
    }
   ],
   "source": [
    "# Try reload the csv file to check if everything works fine\n",
    "pd.read_csv(\"../dataset/selected_business.csv\", encoding=\"utf-8\").head(10)"
   ]
  },
  {
   "cell_type": "markdown",
   "metadata": {},
   "source": [
    "### Use the \"business_id\" column to filter review data\n",
    "\n",
    "* We want to make a DataFrame that contain and only contain the reviews about the business entities we just obtained"
   ]
  },
  {
   "cell_type": "markdown",
   "metadata": {},
   "source": [
    "#### Load review dataset"
   ]
  },
  {
   "cell_type": "code",
   "execution_count": 56,
   "metadata": {},
   "outputs": [],
   "source": [
    "with open(file_review) as f:\n",
    "    df_review = pd.DataFrame(json.loads(line) for line in f)"
   ]
  },
  {
   "cell_type": "code",
   "execution_count": 61,
   "metadata": {},
   "outputs": [
    {
     "data": {
      "text/html": [
       "<div>\n",
       "<style scoped>\n",
       "    .dataframe tbody tr th:only-of-type {\n",
       "        vertical-align: middle;\n",
       "    }\n",
       "\n",
       "    .dataframe tbody tr th {\n",
       "        vertical-align: top;\n",
       "    }\n",
       "\n",
       "    .dataframe thead th {\n",
       "        text-align: right;\n",
       "    }\n",
       "</style>\n",
       "<table border=\"1\" class=\"dataframe\">\n",
       "  <thead>\n",
       "    <tr style=\"text-align: right;\">\n",
       "      <th></th>\n",
       "      <th>cool</th>\n",
       "      <th>date</th>\n",
       "      <th>funny</th>\n",
       "      <th>review_id</th>\n",
       "      <th>stars</th>\n",
       "      <th>text</th>\n",
       "      <th>useful</th>\n",
       "      <th>user_id</th>\n",
       "    </tr>\n",
       "    <tr>\n",
       "      <th>business_id</th>\n",
       "      <th></th>\n",
       "      <th></th>\n",
       "      <th></th>\n",
       "      <th></th>\n",
       "      <th></th>\n",
       "      <th></th>\n",
       "      <th></th>\n",
       "      <th></th>\n",
       "    </tr>\n",
       "  </thead>\n",
       "  <tbody>\n",
       "    <tr>\n",
       "      <th>f5O7v_X_jCg2itqacRfxhg</th>\n",
       "      <td>0</td>\n",
       "      <td>2017-10-12</td>\n",
       "      <td>0</td>\n",
       "      <td>kS4hrhEScwB9V5JATYjvVQ</td>\n",
       "      <td>5</td>\n",
       "      <td>Sansotei serves some top notch ramen. They tak...</td>\n",
       "      <td>0</td>\n",
       "      <td>hxqo4NyJFfeOmuoVi--s1A</td>\n",
       "    </tr>\n",
       "    <tr>\n",
       "      <th>0bjFYstj8USMzEV4ZQldjA</th>\n",
       "      <td>0</td>\n",
       "      <td>2017-01-19</td>\n",
       "      <td>0</td>\n",
       "      <td>VKGvSe0SmYcFc5PqjbxLDQ</td>\n",
       "      <td>5</td>\n",
       "      <td>Cool little place, nice atmosphere and staff. ...</td>\n",
       "      <td>0</td>\n",
       "      <td>eG6HneK9zLcuZpVuKcsCGQ</td>\n",
       "    </tr>\n",
       "    <tr>\n",
       "      <th>gZGsReG0VeX4uKViHTB9EQ</th>\n",
       "      <td>0</td>\n",
       "      <td>2017-08-16</td>\n",
       "      <td>0</td>\n",
       "      <td>51RHs_V_fjuistnuKxNpEg</td>\n",
       "      <td>5</td>\n",
       "      <td>Finally! After trying many Mexican restaurants...</td>\n",
       "      <td>0</td>\n",
       "      <td>5ngpW5tf3ep680eG1HxHzA</td>\n",
       "    </tr>\n",
       "    <tr>\n",
       "      <th>-bd4BQcl1ekgo7avaFngIw</th>\n",
       "      <td>0</td>\n",
       "      <td>2017-06-28</td>\n",
       "      <td>0</td>\n",
       "      <td>P7kiSTiwzqm0_LbA71EOPg</td>\n",
       "      <td>5</td>\n",
       "      <td>One of the best breakfast places I've been to!...</td>\n",
       "      <td>0</td>\n",
       "      <td>5ngpW5tf3ep680eG1HxHzA</td>\n",
       "    </tr>\n",
       "    <tr>\n",
       "      <th>u73j2VQ3TGWdMO-AG7MABw</th>\n",
       "      <td>0</td>\n",
       "      <td>2017-07-06</td>\n",
       "      <td>0</td>\n",
       "      <td>7EgEjUpcb8q-B5dPCMvkaQ</td>\n",
       "      <td>2</td>\n",
       "      <td>Food was alright, the service was HORRIBLE! Bo...</td>\n",
       "      <td>1</td>\n",
       "      <td>5ngpW5tf3ep680eG1HxHzA</td>\n",
       "    </tr>\n",
       "    <tr>\n",
       "      <th>VyVIneSU7XAWgMBllI6LnQ</th>\n",
       "      <td>0</td>\n",
       "      <td>2017-07-08</td>\n",
       "      <td>0</td>\n",
       "      <td>F1UHGw4-6OYyvFFb-E4LMg</td>\n",
       "      <td>5</td>\n",
       "      <td>DELICIOUS! forgot to take a before picture but...</td>\n",
       "      <td>0</td>\n",
       "      <td>5ngpW5tf3ep680eG1HxHzA</td>\n",
       "    </tr>\n",
       "    <tr>\n",
       "      <th>d4z4gjdhQYs-WOVClISf_A</th>\n",
       "      <td>0</td>\n",
       "      <td>2017-06-14</td>\n",
       "      <td>0</td>\n",
       "      <td>VGU_oergctnFczEXDPHYQA</td>\n",
       "      <td>5</td>\n",
       "      <td>Removed several pine trees from our house in H...</td>\n",
       "      <td>0</td>\n",
       "      <td>nqzeKqdWBruvdgMd6aBHrg</td>\n",
       "    </tr>\n",
       "    <tr>\n",
       "      <th>f-v1fvtnbdw_QQRsCnwH-g</th>\n",
       "      <td>0</td>\n",
       "      <td>2017-11-18</td>\n",
       "      <td>0</td>\n",
       "      <td>alI_kRKyEHfdHibYGgtJbw</td>\n",
       "      <td>1</td>\n",
       "      <td>I have to write a review on the Fractured Prun...</td>\n",
       "      <td>0</td>\n",
       "      <td>Fc_nb6N6Sdurqb-rwsY1Bw</td>\n",
       "    </tr>\n",
       "    <tr>\n",
       "      <th>yz66FIUPDKGhILDWzRLeKg</th>\n",
       "      <td>0</td>\n",
       "      <td>2017-11-18</td>\n",
       "      <td>0</td>\n",
       "      <td>85DRIjwPJOTb4q0qOlBstw</td>\n",
       "      <td>1</td>\n",
       "      <td>I wish i could tell you all about the food but...</td>\n",
       "      <td>1</td>\n",
       "      <td>Fc_nb6N6Sdurqb-rwsY1Bw</td>\n",
       "    </tr>\n",
       "    <tr>\n",
       "      <th>7xA6iSP0Ndn08tpBFQtUKA</th>\n",
       "      <td>0</td>\n",
       "      <td>2017-05-22</td>\n",
       "      <td>0</td>\n",
       "      <td>YDJDfKnx6VpMMo4EBxycGg</td>\n",
       "      <td>1</td>\n",
       "      <td>Non-existened service!  The waiter did not eve...</td>\n",
       "      <td>0</td>\n",
       "      <td>FCtoTo9zSH1cSAkascfEHw</td>\n",
       "    </tr>\n",
       "  </tbody>\n",
       "</table>\n",
       "</div>"
      ],
      "text/plain": [
       "                        cool        date  funny               review_id  \\\n",
       "business_id                                                               \n",
       "f5O7v_X_jCg2itqacRfxhg     0  2017-10-12      0  kS4hrhEScwB9V5JATYjvVQ   \n",
       "0bjFYstj8USMzEV4ZQldjA     0  2017-01-19      0  VKGvSe0SmYcFc5PqjbxLDQ   \n",
       "gZGsReG0VeX4uKViHTB9EQ     0  2017-08-16      0  51RHs_V_fjuistnuKxNpEg   \n",
       "-bd4BQcl1ekgo7avaFngIw     0  2017-06-28      0  P7kiSTiwzqm0_LbA71EOPg   \n",
       "u73j2VQ3TGWdMO-AG7MABw     0  2017-07-06      0  7EgEjUpcb8q-B5dPCMvkaQ   \n",
       "VyVIneSU7XAWgMBllI6LnQ     0  2017-07-08      0  F1UHGw4-6OYyvFFb-E4LMg   \n",
       "d4z4gjdhQYs-WOVClISf_A     0  2017-06-14      0  VGU_oergctnFczEXDPHYQA   \n",
       "f-v1fvtnbdw_QQRsCnwH-g     0  2017-11-18      0  alI_kRKyEHfdHibYGgtJbw   \n",
       "yz66FIUPDKGhILDWzRLeKg     0  2017-11-18      0  85DRIjwPJOTb4q0qOlBstw   \n",
       "7xA6iSP0Ndn08tpBFQtUKA     0  2017-05-22      0  YDJDfKnx6VpMMo4EBxycGg   \n",
       "\n",
       "                        stars  \\\n",
       "business_id                     \n",
       "f5O7v_X_jCg2itqacRfxhg      5   \n",
       "0bjFYstj8USMzEV4ZQldjA      5   \n",
       "gZGsReG0VeX4uKViHTB9EQ      5   \n",
       "-bd4BQcl1ekgo7avaFngIw      5   \n",
       "u73j2VQ3TGWdMO-AG7MABw      2   \n",
       "VyVIneSU7XAWgMBllI6LnQ      5   \n",
       "d4z4gjdhQYs-WOVClISf_A      5   \n",
       "f-v1fvtnbdw_QQRsCnwH-g      1   \n",
       "yz66FIUPDKGhILDWzRLeKg      1   \n",
       "7xA6iSP0Ndn08tpBFQtUKA      1   \n",
       "\n",
       "                                                                     text  \\\n",
       "business_id                                                                 \n",
       "f5O7v_X_jCg2itqacRfxhg  Sansotei serves some top notch ramen. They tak...   \n",
       "0bjFYstj8USMzEV4ZQldjA  Cool little place, nice atmosphere and staff. ...   \n",
       "gZGsReG0VeX4uKViHTB9EQ  Finally! After trying many Mexican restaurants...   \n",
       "-bd4BQcl1ekgo7avaFngIw  One of the best breakfast places I've been to!...   \n",
       "u73j2VQ3TGWdMO-AG7MABw  Food was alright, the service was HORRIBLE! Bo...   \n",
       "VyVIneSU7XAWgMBllI6LnQ  DELICIOUS! forgot to take a before picture but...   \n",
       "d4z4gjdhQYs-WOVClISf_A  Removed several pine trees from our house in H...   \n",
       "f-v1fvtnbdw_QQRsCnwH-g  I have to write a review on the Fractured Prun...   \n",
       "yz66FIUPDKGhILDWzRLeKg  I wish i could tell you all about the food but...   \n",
       "7xA6iSP0Ndn08tpBFQtUKA  Non-existened service!  The waiter did not eve...   \n",
       "\n",
       "                        useful                 user_id  \n",
       "business_id                                             \n",
       "f5O7v_X_jCg2itqacRfxhg       0  hxqo4NyJFfeOmuoVi--s1A  \n",
       "0bjFYstj8USMzEV4ZQldjA       0  eG6HneK9zLcuZpVuKcsCGQ  \n",
       "gZGsReG0VeX4uKViHTB9EQ       0  5ngpW5tf3ep680eG1HxHzA  \n",
       "-bd4BQcl1ekgo7avaFngIw       0  5ngpW5tf3ep680eG1HxHzA  \n",
       "u73j2VQ3TGWdMO-AG7MABw       1  5ngpW5tf3ep680eG1HxHzA  \n",
       "VyVIneSU7XAWgMBllI6LnQ       0  5ngpW5tf3ep680eG1HxHzA  \n",
       "d4z4gjdhQYs-WOVClISf_A       0  nqzeKqdWBruvdgMd6aBHrg  \n",
       "f-v1fvtnbdw_QQRsCnwH-g       0  Fc_nb6N6Sdurqb-rwsY1Bw  \n",
       "yz66FIUPDKGhILDWzRLeKg       1  Fc_nb6N6Sdurqb-rwsY1Bw  \n",
       "7xA6iSP0Ndn08tpBFQtUKA       0  FCtoTo9zSH1cSAkascfEHw  "
      ]
     },
     "execution_count": 61,
     "metadata": {},
     "output_type": "execute_result"
    }
   ],
   "source": [
    "df_review.head(10)"
   ]
  },
  {
   "cell_type": "markdown",
   "metadata": {},
   "source": [
    "#### Prepare dataframes to be joined, - on business_id"
   ]
  },
  {
   "cell_type": "code",
   "execution_count": 58,
   "metadata": {},
   "outputs": [],
   "source": [
    "# Prepare the business dataframe and set index to column \"business_id\", and name it as df_left\n",
    "df_left = df_selected_business.set_index('business_id')"
   ]
  },
  {
   "cell_type": "code",
   "execution_count": 59,
   "metadata": {},
   "outputs": [],
   "source": [
    "# Prepare the review dataframe and set index to column \"business_id\", and name it as df_right\n",
    "# Also filter date after '2017-01-01'\n",
    "df_review = df_review[df_review['date']>'2017-01-01'].set_index('business_id')"
   ]
  },
  {
   "cell_type": "markdown",
   "metadata": {},
   "source": [
    "#### Join! and reset index"
   ]
  },
  {
   "cell_type": "code",
   "execution_count": 62,
   "metadata": {},
   "outputs": [],
   "source": [
    "# Join df_left and df_right. What type of join?\n",
    "df_final = df_left.join(df_review,how='inner')"
   ]
  },
  {
   "cell_type": "code",
   "execution_count": 63,
   "metadata": {},
   "outputs": [],
   "source": [
    "# Reset the index \n",
    "df_final = df_final.reset_index()"
   ]
  },
  {
   "cell_type": "markdown",
   "metadata": {},
   "source": [
    "### We further filter data by date, e.g. keep comments from 2017 (better perform filter before join, so data is smaller)\n",
    "\n",
    "* Purposefully ignoring the reviews made too long time ago"
   ]
  },
  {
   "cell_type": "markdown",
   "metadata": {},
   "source": [
    "#### Take a glance at the final dataset\n"
   ]
  },
  {
   "cell_type": "code",
   "execution_count": 64,
   "metadata": {},
   "outputs": [],
   "source": [
    "import matplotlib.pyplot as plt\n",
    "\n",
    "% matplotlib inline"
   ]
  },
  {
   "cell_type": "markdown",
   "metadata": {},
   "source": [
    "## Save your preprocessed dataset to csv file\n",
    "\n",
    "* Respect your laptop's hard work! You don't want to make it run everything again."
   ]
  },
  {
   "cell_type": "code",
   "execution_count": 65,
   "metadata": {},
   "outputs": [],
   "source": [
    "# Save to data/2017_restaurant_reviews.csv for your next task\n",
    "df_final.to_csv('../dataset/2017_restaurant_reviews.csv',index=False)"
   ]
  },
  {
   "cell_type": "code",
   "execution_count": null,
   "metadata": {},
   "outputs": [],
   "source": []
  }
 ],
 "metadata": {
  "anaconda-cloud": {},
  "kernelspec": {
   "display_name": "Python 3",
   "language": "python",
   "name": "python3"
  },
  "language_info": {
   "codemirror_mode": {
    "name": "ipython",
    "version": 3
   },
   "file_extension": ".py",
   "mimetype": "text/x-python",
   "name": "python",
   "nbconvert_exporter": "python",
   "pygments_lexer": "ipython3",
   "version": "3.6.5"
  }
 },
 "nbformat": 4,
 "nbformat_minor": 1
}
